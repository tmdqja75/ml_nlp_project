{
 "cells": [
  {
   "cell_type": "code",
   "execution_count": 165,
   "metadata": {
    "scrolled": true
   },
   "outputs": [
    {
     "name": "stdout",
     "output_type": "stream",
     "text": [
      "['AppleGothic']\n"
     ]
    },
    {
     "data": {
      "text/html": [
       "<div>\n",
       "<style scoped>\n",
       "    .dataframe tbody tr th:only-of-type {\n",
       "        vertical-align: middle;\n",
       "    }\n",
       "\n",
       "    .dataframe tbody tr th {\n",
       "        vertical-align: top;\n",
       "    }\n",
       "\n",
       "    .dataframe thead th {\n",
       "        text-align: right;\n",
       "    }\n",
       "</style>\n",
       "<table border=\"1\" class=\"dataframe\">\n",
       "  <thead>\n",
       "    <tr style=\"text-align: right;\">\n",
       "      <th></th>\n",
       "      <th>문장</th>\n",
       "      <th>유형</th>\n",
       "    </tr>\n",
       "  </thead>\n",
       "  <tbody>\n",
       "    <tr>\n",
       "      <th>0</th>\n",
       "      <td>0.75%포인트 금리 인상은 1994년 이후 28년 만에 처음이다.</td>\n",
       "      <td>사실형</td>\n",
       "    </tr>\n",
       "    <tr>\n",
       "      <th>1</th>\n",
       "      <td>이어 ＂앞으로 전문가들과 함께 4주 단위로 상황을 재평가할 예정＂이라며 ＂그 이전이...</td>\n",
       "      <td>사실형</td>\n",
       "    </tr>\n",
       "    <tr>\n",
       "      <th>2</th>\n",
       "      <td>정부가 고유가 대응을 위해 7월부터 연말까지 유류세 인하 폭을 30%에서 37%까지...</td>\n",
       "      <td>사실형</td>\n",
       "    </tr>\n",
       "    <tr>\n",
       "      <th>3</th>\n",
       "      <td>서울시는 올해 3월 즉시 견인 유예시간 60분을 제공하겠다고 밝혔지만, 하루 만에 ...</td>\n",
       "      <td>사실형</td>\n",
       "    </tr>\n",
       "    <tr>\n",
       "      <th>4</th>\n",
       "      <td>익사한 자는 사다리에 태워 거꾸로 놓고 소금으로 코를 막아 가득 채운다.</td>\n",
       "      <td>사실형</td>\n",
       "    </tr>\n",
       "    <tr>\n",
       "      <th>...</th>\n",
       "      <td>...</td>\n",
       "      <td>...</td>\n",
       "    </tr>\n",
       "    <tr>\n",
       "      <th>16536</th>\n",
       "      <td>＇신동덤＇은 ＇신비한 동물사전＇과 ＇해리 포터＇ 시리즈를 잇는 마법 어드벤처물로, ...</td>\n",
       "      <td>사실형</td>\n",
       "    </tr>\n",
       "    <tr>\n",
       "      <th>16537</th>\n",
       "      <td>수족냉증은 어릴 때부터 심했으며 관절은 어디 한 곳이 아니고 목, 어깨, 팔꿈치, ...</td>\n",
       "      <td>사실형</td>\n",
       "    </tr>\n",
       "    <tr>\n",
       "      <th>16538</th>\n",
       "      <td>김금희 소설가는 ＂계약서 조정이 그리 어려운가 작가를 격려한다면서 그런 문구 하나 ...</td>\n",
       "      <td>사실형</td>\n",
       "    </tr>\n",
       "    <tr>\n",
       "      <th>16539</th>\n",
       "      <td>1만명이 넘는 방문자수를 기록한 이번 전시회는 총 77개 작품을 넥슨 사옥을 그대로...</td>\n",
       "      <td>사실형</td>\n",
       "    </tr>\n",
       "    <tr>\n",
       "      <th>16540</th>\n",
       "      <td>《목민심서》의 내용이다.</td>\n",
       "      <td>사실형</td>\n",
       "    </tr>\n",
       "  </tbody>\n",
       "</table>\n",
       "<p>16541 rows × 2 columns</p>\n",
       "</div>"
      ],
      "text/plain": [
       "                                                      문장   유형\n",
       "0                  0.75%포인트 금리 인상은 1994년 이후 28년 만에 처음이다.  사실형\n",
       "1      이어 ＂앞으로 전문가들과 함께 4주 단위로 상황을 재평가할 예정＂이라며 ＂그 이전이...  사실형\n",
       "2      정부가 고유가 대응을 위해 7월부터 연말까지 유류세 인하 폭을 30%에서 37%까지...  사실형\n",
       "3      서울시는 올해 3월 즉시 견인 유예시간 60분을 제공하겠다고 밝혔지만, 하루 만에 ...  사실형\n",
       "4               익사한 자는 사다리에 태워 거꾸로 놓고 소금으로 코를 막아 가득 채운다.  사실형\n",
       "...                                                  ...  ...\n",
       "16536  ＇신동덤＇은 ＇신비한 동물사전＇과 ＇해리 포터＇ 시리즈를 잇는 마법 어드벤처물로, ...  사실형\n",
       "16537  수족냉증은 어릴 때부터 심했으며 관절은 어디 한 곳이 아니고 목, 어깨, 팔꿈치, ...  사실형\n",
       "16538  김금희 소설가는 ＂계약서 조정이 그리 어려운가 작가를 격려한다면서 그런 문구 하나 ...  사실형\n",
       "16539  1만명이 넘는 방문자수를 기록한 이번 전시회는 총 77개 작품을 넥슨 사옥을 그대로...  사실형\n",
       "16540                                      《목민심서》의 내용이다.  사실형\n",
       "\n",
       "[16541 rows x 2 columns]"
      ]
     },
     "execution_count": 165,
     "metadata": {},
     "output_type": "execute_result"
    }
   ],
   "source": [
    "import pandas as pd\n",
    "import numpy as np\n",
    "import matplotlib.pyplot as plt\n",
    "import seaborn as sns\n",
    "import re\n",
    "import time\n",
    "import pickle\n",
    "\n",
    "from multiprocessing import cpu_count\n",
    "\n",
    "from imblearn.under_sampling import RandomUnderSampler\n",
    "\n",
    "from joblib import dump, load\n",
    "\n",
    "\n",
    "\n",
    "from matplotlib import font_manager, rc\n",
    "from konlpy.tag import Okt, Mecab\n",
    "\n",
    "from sklearn.preprocessing import LabelBinarizer\n",
    "from sklearn.feature_extraction.text import TfidfVectorizer, CountVectorizer\n",
    "\n",
    "from sklearn.naive_bayes import MultinomialNB\n",
    "from lightgbm import LGBMClassifier\n",
    "\n",
    "from sklearn.model_selection import RandomizedSearchCV\n",
    "from scipy.stats import uniform as sp_randFloat\n",
    "from scipy.stats import randint as sp_randInt\n",
    "\n",
    "from sklearn.ensemble import RandomForestClassifier\n",
    "from sklearn.metrics import (\n",
    "    accuracy_score,\n",
    "    f1_score,\n",
    "    roc_auc_score,\n",
    "    auc,\n",
    "    classification_report,\n",
    ")\n",
    "\n",
    "from sklearn.pipeline import Pipeline\n",
    "\n",
    "from itertools import combinations\n",
    "\n",
    "import wandb\n",
    "\n",
    "wandb.login()\n",
    "\n",
    "plt.rc(\"font\", family=\"AppleGothic\")  # For MacOS\n",
    "print(plt.rcParams[\"font.family\"])\n",
    "\n",
    "\n",
    "sentence_df = pd.read_csv(\"../open/train.csv\")\n",
    "sentence_df = sentence_df[[\"문장\", \"유형\"]]\n",
    "sentence_df\n"
   ]
  },
  {
   "cell_type": "code",
   "execution_count": 137,
   "metadata": {},
   "outputs": [
    {
     "data": {
      "text/plain": [
       "9"
      ]
     },
     "execution_count": 137,
     "metadata": {},
     "output_type": "execute_result"
    }
   ],
   "source": [
    "num_cpu = cpu_count()-1\n",
    "num_cpu"
   ]
  },
  {
   "cell_type": "markdown",
   "metadata": {},
   "source": [
    "## wandb 초기화"
   ]
  },
  {
   "cell_type": "code",
   "execution_count": 138,
   "metadata": {},
   "outputs": [
    {
     "data": {
      "text/html": [
       "Finishing last run (ID:l38lm868) before initializing another..."
      ],
      "text/plain": [
       "<IPython.core.display.HTML object>"
      ]
     },
     "metadata": {},
     "output_type": "display_data"
    },
    {
     "data": {
      "text/html": [
       "Waiting for W&B process to finish... <strong style=\"color:green\">(success).</strong>"
      ],
      "text/plain": [
       "<IPython.core.display.HTML object>"
      ]
     },
     "metadata": {},
     "output_type": "display_data"
    },
    {
     "data": {
      "text/html": [
       " View run <strong style=\"color:#cdcd00\">alight-envelope-17</strong> at: <a href=\"https://wandb.ai/tmdqja75/my-nlp-project/runs/l38lm868\" target=\"_blank\">https://wandb.ai/tmdqja75/my-nlp-project/runs/l38lm868</a><br/>Synced 6 W&B file(s), 6 media file(s), 6 artifact file(s) and 0 other file(s)"
      ],
      "text/plain": [
       "<IPython.core.display.HTML object>"
      ]
     },
     "metadata": {},
     "output_type": "display_data"
    },
    {
     "data": {
      "text/html": [
       "Find logs at: <code>./wandb/run-20230201_181509-l38lm868/logs</code>"
      ],
      "text/plain": [
       "<IPython.core.display.HTML object>"
      ]
     },
     "metadata": {},
     "output_type": "display_data"
    },
    {
     "data": {
      "text/html": [
       "Successfully finished last run (ID:l38lm868). Initializing new run:<br/>"
      ],
      "text/plain": [
       "<IPython.core.display.HTML object>"
      ]
     },
     "metadata": {},
     "output_type": "display_data"
    },
    {
     "data": {
      "application/vnd.jupyter.widget-view+json": {
       "model_id": "7c452cc144a840d78137f1d699ab83d5",
       "version_major": 2,
       "version_minor": 0
      },
      "text/plain": [
       "VBox(children=(Label(value='Waiting for wandb.init()...\\r'), FloatProgress(value=0.016698929866667336, max=1.0…"
      ]
     },
     "metadata": {},
     "output_type": "display_data"
    },
    {
     "data": {
      "text/html": [
       "Tracking run with wandb version 0.13.9"
      ],
      "text/plain": [
       "<IPython.core.display.HTML object>"
      ]
     },
     "metadata": {},
     "output_type": "display_data"
    },
    {
     "data": {
      "text/html": [
       "Run data is saved locally in <code>/Users/seungbeomha/Library/Mobile Documents/com~apple~CloudDocs/nlp_sentence_type/ml_nlp_project/wandb/run-20230201_182728-0n98wzlw</code>"
      ],
      "text/plain": [
       "<IPython.core.display.HTML object>"
      ]
     },
     "metadata": {},
     "output_type": "display_data"
    },
    {
     "data": {
      "text/html": [
       "Syncing run <strong><a href=\"https://wandb.ai/tmdqja75/my-nlp-project/runs/0n98wzlw\" target=\"_blank\">glittering-tiger-18</a></strong> to <a href=\"https://wandb.ai/tmdqja75/my-nlp-project\" target=\"_blank\">Weights & Biases</a> (<a href=\"https://wandb.me/run\" target=\"_blank\">docs</a>)<br/>"
      ],
      "text/plain": [
       "<IPython.core.display.HTML object>"
      ]
     },
     "metadata": {},
     "output_type": "display_data"
    },
    {
     "data": {
      "text/html": [
       " View project at <a href=\"https://wandb.ai/tmdqja75/my-nlp-project\" target=\"_blank\">https://wandb.ai/tmdqja75/my-nlp-project</a>"
      ],
      "text/plain": [
       "<IPython.core.display.HTML object>"
      ]
     },
     "metadata": {},
     "output_type": "display_data"
    },
    {
     "data": {
      "text/html": [
       " View run at <a href=\"https://wandb.ai/tmdqja75/my-nlp-project/runs/0n98wzlw\" target=\"_blank\">https://wandb.ai/tmdqja75/my-nlp-project/runs/0n98wzlw</a>"
      ],
      "text/plain": [
       "<IPython.core.display.HTML object>"
      ]
     },
     "metadata": {},
     "output_type": "display_data"
    }
   ],
   "source": [
    "run = wandb.init(project='my-nlp-project')"
   ]
  },
  {
   "cell_type": "code",
   "execution_count": 139,
   "metadata": {},
   "outputs": [
    {
     "data": {
      "text/plain": [
       "사실형    13558\n",
       "추론형     2151\n",
       "대화형      575\n",
       "예측형      257\n",
       "Name: 유형, dtype: int64"
      ]
     },
     "execution_count": 139,
     "metadata": {},
     "output_type": "execute_result"
    }
   ],
   "source": [
    "sentence_df['유형'].value_counts()"
   ]
  },
  {
   "cell_type": "code",
   "execution_count": 140,
   "metadata": {},
   "outputs": [],
   "source": [
    "# stopwords = pd.read_csv(\"https://raw.githubusercontent.com/yoonkt200/FastCampusDataset/master/korean_stopwords.txt\", header=None)[0].tolist()\n",
    "stopwords = ['은', '는', '도', '한', '이다', '을', '이', '를', '가', '에', '의', '과', '에서', '으로', '들', '로', '와', '등']\n"
   ]
  },
  {
   "cell_type": "markdown",
   "metadata": {},
   "source": [
    "## Undersampling"
   ]
  },
  {
   "cell_type": "code",
   "execution_count": 141,
   "metadata": {},
   "outputs": [
    {
     "data": {
      "text/plain": [
       "대화형    257\n",
       "사실형    257\n",
       "예측형    257\n",
       "추론형    257\n",
       "Name: 유형, dtype: int64"
      ]
     },
     "execution_count": 141,
     "metadata": {},
     "output_type": "execute_result"
    }
   ],
   "source": [
    "rus = RandomUnderSampler()\n",
    "\n",
    "undersampled_data, undersampled_label = rus.fit_resample(np.array(sentence_df['문장'].to_list()).reshape(-1, 1), sentence_df['유형'])\n",
    "undersample = np.concatenate((undersampled_data.reshape(-1, 1), undersampled_label.values.reshape(-1, 1)), axis=1)\n",
    "\n",
    "sentence_df = pd.DataFrame(undersample, columns=['문장', '유형'])\n",
    "sentence_df['유형'].value_counts()"
   ]
  },
  {
   "cell_type": "markdown",
   "metadata": {},
   "source": [
    "## 데이터 클리닝\n",
    "- regex"
   ]
  },
  {
   "cell_type": "code",
   "execution_count": 142,
   "metadata": {},
   "outputs": [],
   "source": [
    "# regex 함수\n",
    "def regex_filter(sentence):\n",
    "    return re.sub(r\"[^가-힣\\s!?]|\\(.*?\\)\", \"\", sentence)"
   ]
  },
  {
   "cell_type": "code",
   "execution_count": 143,
   "metadata": {},
   "outputs": [],
   "source": [
    "sentence_df['문장'] = sentence_df['문장'].apply(regex_filter)"
   ]
  },
  {
   "cell_type": "markdown",
   "metadata": {},
   "source": [
    "## 데이터 나누기 (Train/Test)"
   ]
  },
  {
   "cell_type": "code",
   "execution_count": 144,
   "metadata": {},
   "outputs": [
    {
     "data": {
      "text/plain": [
       "((822,), (822,))"
      ]
     },
     "execution_count": 144,
     "metadata": {},
     "output_type": "execute_result"
    }
   ],
   "source": [
    "from sklearn.model_selection import train_test_split\n",
    "\n",
    "X = sentence_df['문장']\n",
    "y = sentence_df['유형']\n",
    "\n",
    "X_train, X_valid, y_train, y_valid = train_test_split(\n",
    "    X, y, test_size=0.2, random_state=13, stratify=y)\n",
    "X_train.shape, y_train.shape"
   ]
  },
  {
   "cell_type": "markdown",
   "metadata": {},
   "source": [
    "## Vectorizer"
   ]
  },
  {
   "cell_type": "code",
   "execution_count": 146,
   "metadata": {},
   "outputs": [],
   "source": [
    "def custom_tokenizer(sentence):\n",
    "    '''\n",
    "    각 문장을 Mecab을 이용하여 토큰화해줄 함수\n",
    "    토큰들을 리스트 형식으로 반환\n",
    "    '''\n",
    "    t= Mecab()\n",
    "    return [token[0] for token in t.pos(sentence)]"
   ]
  },
  {
   "cell_type": "markdown",
   "metadata": {},
   "source": [
    "### CountVectorizer"
   ]
  },
  {
   "cell_type": "code",
   "execution_count": 122,
   "metadata": {},
   "outputs": [
    {
     "name": "stderr",
     "output_type": "stream",
     "text": [
      "/Users/seungbeomha/opt/anaconda3/lib/python3.9/site-packages/sklearn/feature_extraction/text.py:404: UserWarning: Your stop_words may be inconsistent with your preprocessing. Tokenizing the stop words generated tokens ['다'] not in stop_words.\n",
      "  warnings.warn(\n"
     ]
    },
    {
     "data": {
      "text/plain": [
       "(822, 46)"
      ]
     },
     "execution_count": 122,
     "metadata": {},
     "output_type": "execute_result"
    }
   ],
   "source": [
    "vectorizer = CountVectorizer(\n",
    "    tokenizer=custom_tokenizer,\n",
    "    ngram_range=(2, 2),\n",
    "    min_df=10, \n",
    "    stop_words=stopwords\n",
    ")\n",
    "X_train_vec = vectorizer.fit_transform(X_train)\n",
    "X_train_vec.shape"
   ]
  },
  {
   "cell_type": "markdown",
   "metadata": {},
   "source": [
    "### TF-IDF"
   ]
  },
  {
   "cell_type": "code",
   "execution_count": 147,
   "metadata": {},
   "outputs": [
    {
     "name": "stderr",
     "output_type": "stream",
     "text": [
      "/Users/seungbeomha/opt/anaconda3/lib/python3.9/site-packages/sklearn/feature_extraction/text.py:404: UserWarning: Your stop_words may be inconsistent with your preprocessing. Tokenizing the stop words generated tokens ['다'] not in stop_words.\n",
      "  warnings.warn(\n"
     ]
    },
    {
     "data": {
      "text/plain": [
       "(822, 749)"
      ]
     },
     "execution_count": 147,
     "metadata": {},
     "output_type": "execute_result"
    }
   ],
   "source": [
    "vectorizer = TfidfVectorizer(\n",
    "    tokenizer=custom_tokenizer, \n",
    "    ngram_range=(1, 3),\n",
    "    min_df=5,\n",
    "    stop_words=stopwords)\n",
    "X_train_vec = vectorizer.fit_transform(X_train)\n",
    "X_train_vec.shape"
   ]
  },
  {
   "cell_type": "code",
   "execution_count": 168,
   "metadata": {},
   "outputs": [
    {
     "data": {
      "text/plain": [
       "['final_vectorizer.joblib']"
      ]
     },
     "execution_count": 168,
     "metadata": {},
     "output_type": "execute_result"
    }
   ],
   "source": [
    "dump(vectorizer, 'final_vectorizer.joblib')"
   ]
  },
  {
   "cell_type": "code",
   "execution_count": 148,
   "metadata": {},
   "outputs": [
    {
     "data": {
      "text/html": [
       "<div>\n",
       "<style scoped>\n",
       "    .dataframe tbody tr th:only-of-type {\n",
       "        vertical-align: middle;\n",
       "    }\n",
       "\n",
       "    .dataframe tbody tr th {\n",
       "        vertical-align: top;\n",
       "    }\n",
       "\n",
       "    .dataframe thead th {\n",
       "        text-align: right;\n",
       "    }\n",
       "</style>\n",
       "<table border=\"1\" class=\"dataframe\">\n",
       "  <thead>\n",
       "    <tr style=\"text-align: right;\">\n",
       "      <th></th>\n",
       "      <th>?</th>\n",
       "      <th>가격</th>\n",
       "      <th>가끔</th>\n",
       "      <th>가능</th>\n",
       "      <th>가능 성</th>\n",
       "      <th>가능 하</th>\n",
       "      <th>가량</th>\n",
       "      <th>가상</th>\n",
       "      <th>가장</th>\n",
       "      <th>가지</th>\n",
       "      <th>...</th>\n",
       "      <th>화폐</th>\n",
       "      <th>확대</th>\n",
       "      <th>확보</th>\n",
       "      <th>확산</th>\n",
       "      <th>환경</th>\n",
       "      <th>활용</th>\n",
       "      <th>회사</th>\n",
       "      <th>회장</th>\n",
       "      <th>효과</th>\n",
       "      <th>후</th>\n",
       "    </tr>\n",
       "  </thead>\n",
       "  <tbody>\n",
       "    <tr>\n",
       "      <th>0</th>\n",
       "      <td>0.000000</td>\n",
       "      <td>0.0</td>\n",
       "      <td>0.0</td>\n",
       "      <td>0.000000</td>\n",
       "      <td>0.000000</td>\n",
       "      <td>0.0</td>\n",
       "      <td>0.0</td>\n",
       "      <td>0.0</td>\n",
       "      <td>0.0</td>\n",
       "      <td>0.0</td>\n",
       "      <td>...</td>\n",
       "      <td>0.0</td>\n",
       "      <td>0.0</td>\n",
       "      <td>0.0</td>\n",
       "      <td>0.0</td>\n",
       "      <td>0.0</td>\n",
       "      <td>0.0</td>\n",
       "      <td>0.0</td>\n",
       "      <td>0.0</td>\n",
       "      <td>0.0</td>\n",
       "      <td>0.0</td>\n",
       "    </tr>\n",
       "    <tr>\n",
       "      <th>1</th>\n",
       "      <td>0.382092</td>\n",
       "      <td>0.0</td>\n",
       "      <td>0.0</td>\n",
       "      <td>0.000000</td>\n",
       "      <td>0.000000</td>\n",
       "      <td>0.0</td>\n",
       "      <td>0.0</td>\n",
       "      <td>0.0</td>\n",
       "      <td>0.0</td>\n",
       "      <td>0.0</td>\n",
       "      <td>...</td>\n",
       "      <td>0.0</td>\n",
       "      <td>0.0</td>\n",
       "      <td>0.0</td>\n",
       "      <td>0.0</td>\n",
       "      <td>0.0</td>\n",
       "      <td>0.0</td>\n",
       "      <td>0.0</td>\n",
       "      <td>0.0</td>\n",
       "      <td>0.0</td>\n",
       "      <td>0.0</td>\n",
       "    </tr>\n",
       "    <tr>\n",
       "      <th>2</th>\n",
       "      <td>0.000000</td>\n",
       "      <td>0.0</td>\n",
       "      <td>0.0</td>\n",
       "      <td>0.000000</td>\n",
       "      <td>0.000000</td>\n",
       "      <td>0.0</td>\n",
       "      <td>0.0</td>\n",
       "      <td>0.0</td>\n",
       "      <td>0.0</td>\n",
       "      <td>0.0</td>\n",
       "      <td>...</td>\n",
       "      <td>0.0</td>\n",
       "      <td>0.0</td>\n",
       "      <td>0.0</td>\n",
       "      <td>0.0</td>\n",
       "      <td>0.0</td>\n",
       "      <td>0.0</td>\n",
       "      <td>0.0</td>\n",
       "      <td>0.0</td>\n",
       "      <td>0.0</td>\n",
       "      <td>0.0</td>\n",
       "    </tr>\n",
       "    <tr>\n",
       "      <th>3</th>\n",
       "      <td>0.000000</td>\n",
       "      <td>0.0</td>\n",
       "      <td>0.0</td>\n",
       "      <td>0.000000</td>\n",
       "      <td>0.000000</td>\n",
       "      <td>0.0</td>\n",
       "      <td>0.0</td>\n",
       "      <td>0.0</td>\n",
       "      <td>0.0</td>\n",
       "      <td>0.0</td>\n",
       "      <td>...</td>\n",
       "      <td>0.0</td>\n",
       "      <td>0.0</td>\n",
       "      <td>0.0</td>\n",
       "      <td>0.0</td>\n",
       "      <td>0.0</td>\n",
       "      <td>0.0</td>\n",
       "      <td>0.0</td>\n",
       "      <td>0.0</td>\n",
       "      <td>0.0</td>\n",
       "      <td>0.0</td>\n",
       "    </tr>\n",
       "    <tr>\n",
       "      <th>4</th>\n",
       "      <td>0.000000</td>\n",
       "      <td>0.0</td>\n",
       "      <td>0.0</td>\n",
       "      <td>0.290118</td>\n",
       "      <td>0.341874</td>\n",
       "      <td>0.0</td>\n",
       "      <td>0.0</td>\n",
       "      <td>0.0</td>\n",
       "      <td>0.0</td>\n",
       "      <td>0.0</td>\n",
       "      <td>...</td>\n",
       "      <td>0.0</td>\n",
       "      <td>0.0</td>\n",
       "      <td>0.0</td>\n",
       "      <td>0.0</td>\n",
       "      <td>0.0</td>\n",
       "      <td>0.0</td>\n",
       "      <td>0.0</td>\n",
       "      <td>0.0</td>\n",
       "      <td>0.0</td>\n",
       "      <td>0.0</td>\n",
       "    </tr>\n",
       "    <tr>\n",
       "      <th>...</th>\n",
       "      <td>...</td>\n",
       "      <td>...</td>\n",
       "      <td>...</td>\n",
       "      <td>...</td>\n",
       "      <td>...</td>\n",
       "      <td>...</td>\n",
       "      <td>...</td>\n",
       "      <td>...</td>\n",
       "      <td>...</td>\n",
       "      <td>...</td>\n",
       "      <td>...</td>\n",
       "      <td>...</td>\n",
       "      <td>...</td>\n",
       "      <td>...</td>\n",
       "      <td>...</td>\n",
       "      <td>...</td>\n",
       "      <td>...</td>\n",
       "      <td>...</td>\n",
       "      <td>...</td>\n",
       "      <td>...</td>\n",
       "      <td>...</td>\n",
       "    </tr>\n",
       "    <tr>\n",
       "      <th>817</th>\n",
       "      <td>0.000000</td>\n",
       "      <td>0.0</td>\n",
       "      <td>0.0</td>\n",
       "      <td>0.000000</td>\n",
       "      <td>0.000000</td>\n",
       "      <td>0.0</td>\n",
       "      <td>0.0</td>\n",
       "      <td>0.0</td>\n",
       "      <td>0.0</td>\n",
       "      <td>0.0</td>\n",
       "      <td>...</td>\n",
       "      <td>0.0</td>\n",
       "      <td>0.0</td>\n",
       "      <td>0.0</td>\n",
       "      <td>0.0</td>\n",
       "      <td>0.0</td>\n",
       "      <td>0.0</td>\n",
       "      <td>0.0</td>\n",
       "      <td>0.0</td>\n",
       "      <td>0.0</td>\n",
       "      <td>0.0</td>\n",
       "    </tr>\n",
       "    <tr>\n",
       "      <th>818</th>\n",
       "      <td>0.313676</td>\n",
       "      <td>0.0</td>\n",
       "      <td>0.0</td>\n",
       "      <td>0.000000</td>\n",
       "      <td>0.000000</td>\n",
       "      <td>0.0</td>\n",
       "      <td>0.0</td>\n",
       "      <td>0.0</td>\n",
       "      <td>0.0</td>\n",
       "      <td>0.0</td>\n",
       "      <td>...</td>\n",
       "      <td>0.0</td>\n",
       "      <td>0.0</td>\n",
       "      <td>0.0</td>\n",
       "      <td>0.0</td>\n",
       "      <td>0.0</td>\n",
       "      <td>0.0</td>\n",
       "      <td>0.0</td>\n",
       "      <td>0.0</td>\n",
       "      <td>0.0</td>\n",
       "      <td>0.0</td>\n",
       "    </tr>\n",
       "    <tr>\n",
       "      <th>819</th>\n",
       "      <td>0.000000</td>\n",
       "      <td>0.0</td>\n",
       "      <td>0.0</td>\n",
       "      <td>0.000000</td>\n",
       "      <td>0.000000</td>\n",
       "      <td>0.0</td>\n",
       "      <td>0.0</td>\n",
       "      <td>0.0</td>\n",
       "      <td>0.0</td>\n",
       "      <td>0.0</td>\n",
       "      <td>...</td>\n",
       "      <td>0.0</td>\n",
       "      <td>0.0</td>\n",
       "      <td>0.0</td>\n",
       "      <td>0.0</td>\n",
       "      <td>0.0</td>\n",
       "      <td>0.0</td>\n",
       "      <td>0.0</td>\n",
       "      <td>0.0</td>\n",
       "      <td>0.0</td>\n",
       "      <td>0.0</td>\n",
       "    </tr>\n",
       "    <tr>\n",
       "      <th>820</th>\n",
       "      <td>0.000000</td>\n",
       "      <td>0.0</td>\n",
       "      <td>0.0</td>\n",
       "      <td>0.000000</td>\n",
       "      <td>0.000000</td>\n",
       "      <td>0.0</td>\n",
       "      <td>0.0</td>\n",
       "      <td>0.0</td>\n",
       "      <td>0.0</td>\n",
       "      <td>0.0</td>\n",
       "      <td>...</td>\n",
       "      <td>0.0</td>\n",
       "      <td>0.0</td>\n",
       "      <td>0.0</td>\n",
       "      <td>0.0</td>\n",
       "      <td>0.0</td>\n",
       "      <td>0.0</td>\n",
       "      <td>0.0</td>\n",
       "      <td>0.0</td>\n",
       "      <td>0.0</td>\n",
       "      <td>0.0</td>\n",
       "    </tr>\n",
       "    <tr>\n",
       "      <th>821</th>\n",
       "      <td>0.000000</td>\n",
       "      <td>0.0</td>\n",
       "      <td>0.0</td>\n",
       "      <td>0.000000</td>\n",
       "      <td>0.000000</td>\n",
       "      <td>0.0</td>\n",
       "      <td>0.0</td>\n",
       "      <td>0.0</td>\n",
       "      <td>0.0</td>\n",
       "      <td>0.0</td>\n",
       "      <td>...</td>\n",
       "      <td>0.0</td>\n",
       "      <td>0.0</td>\n",
       "      <td>0.0</td>\n",
       "      <td>0.0</td>\n",
       "      <td>0.0</td>\n",
       "      <td>0.0</td>\n",
       "      <td>0.0</td>\n",
       "      <td>0.0</td>\n",
       "      <td>0.0</td>\n",
       "      <td>0.0</td>\n",
       "    </tr>\n",
       "  </tbody>\n",
       "</table>\n",
       "<p>822 rows × 749 columns</p>\n",
       "</div>"
      ],
      "text/plain": [
       "            ?   가격   가끔        가능      가능 성  가능 하   가량   가상   가장   가지  ...  \\\n",
       "0    0.000000  0.0  0.0  0.000000  0.000000   0.0  0.0  0.0  0.0  0.0  ...   \n",
       "1    0.382092  0.0  0.0  0.000000  0.000000   0.0  0.0  0.0  0.0  0.0  ...   \n",
       "2    0.000000  0.0  0.0  0.000000  0.000000   0.0  0.0  0.0  0.0  0.0  ...   \n",
       "3    0.000000  0.0  0.0  0.000000  0.000000   0.0  0.0  0.0  0.0  0.0  ...   \n",
       "4    0.000000  0.0  0.0  0.290118  0.341874   0.0  0.0  0.0  0.0  0.0  ...   \n",
       "..        ...  ...  ...       ...       ...   ...  ...  ...  ...  ...  ...   \n",
       "817  0.000000  0.0  0.0  0.000000  0.000000   0.0  0.0  0.0  0.0  0.0  ...   \n",
       "818  0.313676  0.0  0.0  0.000000  0.000000   0.0  0.0  0.0  0.0  0.0  ...   \n",
       "819  0.000000  0.0  0.0  0.000000  0.000000   0.0  0.0  0.0  0.0  0.0  ...   \n",
       "820  0.000000  0.0  0.0  0.000000  0.000000   0.0  0.0  0.0  0.0  0.0  ...   \n",
       "821  0.000000  0.0  0.0  0.000000  0.000000   0.0  0.0  0.0  0.0  0.0  ...   \n",
       "\n",
       "      화폐   확대   확보   확산   환경   활용   회사   회장   효과    후  \n",
       "0    0.0  0.0  0.0  0.0  0.0  0.0  0.0  0.0  0.0  0.0  \n",
       "1    0.0  0.0  0.0  0.0  0.0  0.0  0.0  0.0  0.0  0.0  \n",
       "2    0.0  0.0  0.0  0.0  0.0  0.0  0.0  0.0  0.0  0.0  \n",
       "3    0.0  0.0  0.0  0.0  0.0  0.0  0.0  0.0  0.0  0.0  \n",
       "4    0.0  0.0  0.0  0.0  0.0  0.0  0.0  0.0  0.0  0.0  \n",
       "..   ...  ...  ...  ...  ...  ...  ...  ...  ...  ...  \n",
       "817  0.0  0.0  0.0  0.0  0.0  0.0  0.0  0.0  0.0  0.0  \n",
       "818  0.0  0.0  0.0  0.0  0.0  0.0  0.0  0.0  0.0  0.0  \n",
       "819  0.0  0.0  0.0  0.0  0.0  0.0  0.0  0.0  0.0  0.0  \n",
       "820  0.0  0.0  0.0  0.0  0.0  0.0  0.0  0.0  0.0  0.0  \n",
       "821  0.0  0.0  0.0  0.0  0.0  0.0  0.0  0.0  0.0  0.0  \n",
       "\n",
       "[822 rows x 749 columns]"
      ]
     },
     "execution_count": 148,
     "metadata": {},
     "output_type": "execute_result"
    }
   ],
   "source": [
    "X_train = pd.DataFrame(X_train_vec.toarray(), columns=vectorizer.get_feature_names_out())\n",
    "X_train"
   ]
  },
  {
   "cell_type": "code",
   "execution_count": 149,
   "metadata": {},
   "outputs": [
    {
     "data": {
      "text/plain": [
       "((206, 749), (206,))"
      ]
     },
     "execution_count": 149,
     "metadata": {},
     "output_type": "execute_result"
    }
   ],
   "source": [
    "X_valid_vec = vectorizer.transform(X_valid)\n",
    "X_valid = pd.DataFrame(X_valid_vec.toarray(), columns=vectorizer.get_feature_names_out())\n",
    "X_valid.shape, y_valid.shape"
   ]
  },
  {
   "cell_type": "markdown",
   "metadata": {},
   "source": [
    "## ML Model test function"
   ]
  },
  {
   "cell_type": "code",
   "execution_count": 150,
   "metadata": {},
   "outputs": [],
   "source": [
    "def model_eval(model, X_val, y_val, randomCV=False):\n",
    "    if not randomCV:\n",
    "        fit_start = time.time()\n",
    "        model.fit(X_train_vec, y_train)\n",
    "        fit_end = time.time()\n",
    "        print(f'Model Fit time: {fit_end-fit_start}')\n",
    "\n",
    "    pred_start = time.time()\n",
    "    pred = model.predict(X_val)\n",
    "    pred_prob = model.predict_proba(X_val)\n",
    "    pred_end = time.time()\n",
    "    print(f'Model pred time: {pred_end-pred_start}')\n",
    "\n",
    "    accuracy = accuracy_score(pred, y_val)\n",
    "    f1 = f1_score(pred, y_val, average='weighted')\n",
    "    \n",
    "    auc_ovo = roc_auc_score(y_val, pred_prob, multi_class='ovo')\n",
    "    auc_ovr = roc_auc_score(y_val, pred_prob, multi_class='ovr')\n",
    "\n",
    "    print(f'{accuracy=}')\n",
    "    print(f'{f1=}')\n",
    "    print(f'{auc_ovo=}')\n",
    "    print(f'{auc_ovr=}')\n",
    "    print(classification_report(y_val, \n",
    "        pred, digits=3, zero_division=0))\n",
    "    \n",
    "    return pred, pred_prob\n"
   ]
  },
  {
   "cell_type": "markdown",
   "metadata": {},
   "source": [
    "## Multinomial Naive Bayes"
   ]
  },
  {
   "cell_type": "code",
   "execution_count": 151,
   "metadata": {},
   "outputs": [
    {
     "name": "stdout",
     "output_type": "stream",
     "text": [
      "Model Fit time: 0.001984119415283203\n",
      "Model pred time: 0.008151054382324219\n",
      "accuracy=0.7135922330097088\n",
      "f1=0.7092809250859149\n",
      "auc_ovo=0.9003048772395991\n",
      "auc_ovr=0.900589503791591\n",
      "              precision    recall  f1-score   support\n",
      "\n",
      "         대화형      0.949     0.712     0.813        52\n",
      "         사실형      0.554     0.608     0.579        51\n",
      "         예측형      0.821     0.885     0.852        52\n",
      "         추론형      0.600     0.647     0.623        51\n",
      "\n",
      "    accuracy                          0.714       206\n",
      "   macro avg      0.731     0.713     0.717       206\n",
      "weighted avg      0.732     0.714     0.718       206\n",
      "\n"
     ]
    },
    {
     "name": "stderr",
     "output_type": "stream",
     "text": [
      "/Users/seungbeomha/opt/anaconda3/lib/python3.9/site-packages/sklearn/base.py:443: UserWarning: X has feature names, but MultinomialNB was fitted without feature names\n",
      "  warnings.warn(\n",
      "/Users/seungbeomha/opt/anaconda3/lib/python3.9/site-packages/sklearn/base.py:443: UserWarning: X has feature names, but MultinomialNB was fitted without feature names\n",
      "  warnings.warn(\n"
     ]
    }
   ],
   "source": [
    "naive = MultinomialNB()\n",
    "\n",
    "pred_nb, prob_nb = model_eval(naive, X_valid, y_valid)"
   ]
  },
  {
   "cell_type": "markdown",
   "metadata": {},
   "source": [
    "## Random Forest"
   ]
  },
  {
   "cell_type": "code",
   "execution_count": 152,
   "metadata": {},
   "outputs": [
    {
     "name": "stdout",
     "output_type": "stream",
     "text": [
      "Model Fit time: 0.1322040557861328\n",
      "Model pred time: 0.013312101364135742\n",
      "accuracy=0.7427184466019418\n",
      "f1=0.7406821211554167\n",
      "auc_ovo=0.9182629805654324\n",
      "auc_ovr=0.9186171868928036\n",
      "              precision    recall  f1-score   support\n",
      "\n",
      "         대화형      0.865     0.865     0.865        52\n",
      "         사실형      0.609     0.765     0.678        51\n",
      "         예측형      0.909     0.769     0.833        52\n",
      "         추론형      0.630     0.569     0.598        51\n",
      "\n",
      "    accuracy                          0.743       206\n",
      "   macro avg      0.754     0.742     0.744       206\n",
      "weighted avg      0.755     0.743     0.745       206\n",
      "\n"
     ]
    }
   ],
   "source": [
    "rf = RandomForestClassifier(\n",
    "    random_state=13\n",
    ")\n",
    "\n",
    "pred_rf_base, prob_rf_base = model_eval(rf, X_valid_vec, y_valid)"
   ]
  },
  {
   "cell_type": "code",
   "execution_count": 70,
   "metadata": {},
   "outputs": [
    {
     "data": {
      "text/plain": [
       "array(['대화형', '사실형', '예측형', '추론형'], dtype=object)"
      ]
     },
     "execution_count": 70,
     "metadata": {},
     "output_type": "execute_result"
    }
   ],
   "source": [
    "rf.classes_"
   ]
  },
  {
   "cell_type": "code",
   "execution_count": 153,
   "metadata": {},
   "outputs": [
    {
     "data": {
      "text/html": [
       "Finishing last run (ID:0n98wzlw) before initializing another..."
      ],
      "text/plain": [
       "<IPython.core.display.HTML object>"
      ]
     },
     "metadata": {},
     "output_type": "display_data"
    },
    {
     "data": {
      "text/html": [
       "Waiting for W&B process to finish... <strong style=\"color:green\">(success).</strong>"
      ],
      "text/plain": [
       "<IPython.core.display.HTML object>"
      ]
     },
     "metadata": {},
     "output_type": "display_data"
    },
    {
     "data": {
      "text/html": [
       " View run <strong style=\"color:#cdcd00\">glittering-tiger-18</strong> at: <a href=\"https://wandb.ai/tmdqja75/my-nlp-project/runs/0n98wzlw\" target=\"_blank\">https://wandb.ai/tmdqja75/my-nlp-project/runs/0n98wzlw</a><br/>Synced 6 W&B file(s), 0 media file(s), 0 artifact file(s) and 0 other file(s)"
      ],
      "text/plain": [
       "<IPython.core.display.HTML object>"
      ]
     },
     "metadata": {},
     "output_type": "display_data"
    },
    {
     "data": {
      "text/html": [
       "Find logs at: <code>./wandb/run-20230201_182728-0n98wzlw/logs</code>"
      ],
      "text/plain": [
       "<IPython.core.display.HTML object>"
      ]
     },
     "metadata": {},
     "output_type": "display_data"
    },
    {
     "data": {
      "text/html": [
       "Successfully finished last run (ID:0n98wzlw). Initializing new run:<br/>"
      ],
      "text/plain": [
       "<IPython.core.display.HTML object>"
      ]
     },
     "metadata": {},
     "output_type": "display_data"
    },
    {
     "data": {
      "application/vnd.jupyter.widget-view+json": {
       "model_id": "e4471b0ecd1648df8d10c388633c2a41",
       "version_major": 2,
       "version_minor": 0
      },
      "text/plain": [
       "VBox(children=(Label(value='Waiting for wandb.init()...\\r'), FloatProgress(value=0.016721431250001237, max=1.0…"
      ]
     },
     "metadata": {},
     "output_type": "display_data"
    },
    {
     "data": {
      "text/html": [
       "Tracking run with wandb version 0.13.9"
      ],
      "text/plain": [
       "<IPython.core.display.HTML object>"
      ]
     },
     "metadata": {},
     "output_type": "display_data"
    },
    {
     "data": {
      "text/html": [
       "Run data is saved locally in <code>/Users/seungbeomha/Library/Mobile Documents/com~apple~CloudDocs/nlp_sentence_type/ml_nlp_project/wandb/run-20230201_182911-hgddmq2p</code>"
      ],
      "text/plain": [
       "<IPython.core.display.HTML object>"
      ]
     },
     "metadata": {},
     "output_type": "display_data"
    },
    {
     "data": {
      "text/html": [
       "Syncing run <strong><a href=\"https://wandb.ai/tmdqja75/my-nlp-project/runs/hgddmq2p\" target=\"_blank\">beaming-firecracker-19</a></strong> to <a href=\"https://wandb.ai/tmdqja75/my-nlp-project\" target=\"_blank\">Weights & Biases</a> (<a href=\"https://wandb.me/run\" target=\"_blank\">docs</a>)<br/>"
      ],
      "text/plain": [
       "<IPython.core.display.HTML object>"
      ]
     },
     "metadata": {},
     "output_type": "display_data"
    },
    {
     "data": {
      "text/html": [
       " View project at <a href=\"https://wandb.ai/tmdqja75/my-nlp-project\" target=\"_blank\">https://wandb.ai/tmdqja75/my-nlp-project</a>"
      ],
      "text/plain": [
       "<IPython.core.display.HTML object>"
      ]
     },
     "metadata": {},
     "output_type": "display_data"
    },
    {
     "data": {
      "text/html": [
       " View run at <a href=\"https://wandb.ai/tmdqja75/my-nlp-project/runs/hgddmq2p\" target=\"_blank\">https://wandb.ai/tmdqja75/my-nlp-project/runs/hgddmq2p</a>"
      ],
      "text/plain": [
       "<IPython.core.display.HTML object>"
      ]
     },
     "metadata": {},
     "output_type": "display_data"
    },
    {
     "name": "stderr",
     "output_type": "stream",
     "text": [
      "\u001b[34m\u001b[1mwandb\u001b[0m: \n",
      "\u001b[34m\u001b[1mwandb\u001b[0m: Plotting RandomForest_Mecab_base.\n",
      "\u001b[34m\u001b[1mwandb\u001b[0m: Logged feature importances.\n",
      "\u001b[34m\u001b[1mwandb\u001b[0m: Logged confusion matrix.\n",
      "/Users/seungbeomha/opt/anaconda3/lib/python3.9/site-packages/sklearn/base.py:443: UserWarning: X has feature names, but RandomForestClassifier was fitted without feature names\n",
      "  warnings.warn(\n",
      "\u001b[34m\u001b[1mwandb\u001b[0m: Logged summary metrics.\n",
      "\u001b[34m\u001b[1mwandb\u001b[0m: Logged class proportions.\n",
      "\u001b[34m\u001b[1mwandb\u001b[0m: \u001b[33mWARNING\u001b[0m This function only supports binary classification at the moment and therefore expects labels to be binary. Skipping calibration curve.\n",
      "\u001b[34m\u001b[1mwandb\u001b[0m: Logged calibration curve.\n",
      "\u001b[34m\u001b[1mwandb\u001b[0m: Logged roc curve.\n",
      "\u001b[34m\u001b[1mwandb\u001b[0m: Logged precision-recall curve.\n"
     ]
    }
   ],
   "source": [
    "run = wandb.init(project='my-nlp-project')\n",
    "wandb.sklearn.plot_classifier(rf, \n",
    "                              X_train, X_valid, \n",
    "                              y_train, y_valid, \n",
    "                              pred_rf_base, prob_rf_base, \n",
    "                              ['예측형', '사실형', '대화형', '추론형'], \n",
    "                              is_binary=True, \n",
    "                              model_name='RandomForest_Mecab_base')\n",
    "\n"
   ]
  },
  {
   "cell_type": "markdown",
   "metadata": {},
   "source": [
    "### Random Forest Hyperparameter Tuning"
   ]
  },
  {
   "cell_type": "code",
   "execution_count": 172,
   "metadata": {},
   "outputs": [
    {
     "name": "stdout",
     "output_type": "stream",
     "text": [
      "Fitting 5 folds for each of 100 candidates, totalling 500 fits\n",
      "[CV] END criterion=gini, max_depth=5, min_samples_split=10, n_estimators=221; total time=   0.2s\n",
      "[CV] END criterion=gini, max_depth=5, min_samples_split=10, n_estimators=221; total time=   0.2s\n",
      "[CV] END criterion=gini, max_depth=5, min_samples_split=10, n_estimators=221; total time=   0.2s\n",
      "[CV] END criterion=gini, max_depth=5, min_samples_split=10, n_estimators=221; total time=   0.2s\n",
      "[CV] END criterion=gini, max_depth=4, min_samples_split=9, n_estimators=421; total time=   0.3s\n",
      "[CV] END criterion=gini, max_depth=4, min_samples_split=9, n_estimators=421; total time=   0.4s\n",
      "[CV] END criterion=gini, max_depth=4, min_samples_split=9, n_estimators=421; total time=   0.4s\n",
      "[CV] END criterion=gini, max_depth=4, min_samples_split=9, n_estimators=421; total time=   0.4s\n",
      "[CV] END criterion=gini, max_depth=4, min_samples_split=9, n_estimators=421; total time=   0.4s\n",
      "[CV] END criterion=gini, max_depth=5, min_samples_split=10, n_estimators=221; total time=   0.2s\n",
      "[CV] END criterion=gini, max_depth=2, min_samples_split=8, n_estimators=382; total time=   0.3s\n",
      "[CV] END criterion=gini, max_depth=2, min_samples_split=8, n_estimators=382; total time=   0.3s\n",
      "[CV] END criterion=gini, max_depth=2, min_samples_split=8, n_estimators=382; total time=   0.3s\n",
      "[CV] END criterion=gini, max_depth=2, min_samples_split=8, n_estimators=382; total time=   0.4s\n",
      "[CV] END criterion=gini, max_depth=2, min_samples_split=8, n_estimators=382; total time=   0.4s\n",
      "[CV] END criterion=entropy, max_depth=2, min_samples_split=10, n_estimators=375; total time=   0.4s\n",
      "[CV] END criterion=entropy, max_depth=2, min_samples_split=10, n_estimators=375; total time=   0.4s\n",
      "[CV] END criterion=entropy, max_depth=2, min_samples_split=10, n_estimators=375; total time=   0.4s\n",
      "[CV] END criterion=entropy, max_depth=2, min_samples_split=10, n_estimators=375; total time=   0.4s\n",
      "[CV] END criterion=entropy, max_depth=2, min_samples_split=9, n_estimators=269; total time=   0.3s\n",
      "[CV] END criterion=entropy, max_depth=2, min_samples_split=9, n_estimators=269; total time=   0.3s\n",
      "[CV] END criterion=entropy, max_depth=2, min_samples_split=10, n_estimators=375; total time=   0.3s\n",
      "[CV] END criterion=entropy, max_depth=2, min_samples_split=9, n_estimators=269; total time=   0.2s\n",
      "[CV] END criterion=entropy, max_depth=2, min_samples_split=9, n_estimators=269; total time=   0.2s\n",
      "[CV] END criterion=entropy, max_depth=2, min_samples_split=9, n_estimators=269; total time=   0.2s\n",
      "[CV] END criterion=gini, max_depth=3, min_samples_split=9, n_estimators=367; total time=   0.3s\n",
      "[CV] END criterion=gini, max_depth=3, min_samples_split=9, n_estimators=367; total time=   0.3s\n",
      "[CV] END criterion=gini, max_depth=3, min_samples_split=9, n_estimators=367; total time=   0.3s\n",
      "[CV] END criterion=gini, max_depth=3, min_samples_split=9, n_estimators=367; total time=   0.3s\n",
      "[CV] END criterion=gini, max_depth=3, min_samples_split=9, n_estimators=367; total time=   0.3s\n",
      "[CV] END criterion=gini, max_depth=6, min_samples_split=10, n_estimators=464; total time=   0.4s\n",
      "[CV] END criterion=gini, max_depth=6, min_samples_split=10, n_estimators=464; total time=   0.4s\n",
      "[CV] END criterion=gini, max_depth=6, min_samples_split=10, n_estimators=464; total time=   0.4s\n",
      "[CV] END criterion=gini, max_depth=2, min_samples_split=8, n_estimators=479; total time=   0.3s\n",
      "[CV] END criterion=gini, max_depth=6, min_samples_split=10, n_estimators=464; total time=   0.4s\n",
      "[CV] END criterion=gini, max_depth=2, min_samples_split=8, n_estimators=479; total time=   0.3s\n",
      "[CV] END criterion=gini, max_depth=2, min_samples_split=8, n_estimators=479; total time=   0.3s\n",
      "[CV] END criterion=gini, max_depth=2, min_samples_split=8, n_estimators=479; total time=   0.4s\n",
      "[CV] END criterion=gini, max_depth=6, min_samples_split=10, n_estimators=464; total time=   0.4s\n",
      "[CV] END criterion=gini, max_depth=2, min_samples_split=8, n_estimators=479; total time=   0.3s\n",
      "[CV] END criterion=gini, max_depth=3, min_samples_split=8, n_estimators=446; total time=   0.3s\n",
      "[CV] END criterion=gini, max_depth=3, min_samples_split=8, n_estimators=446; total time=   0.3s\n",
      "[CV] END criterion=gini, max_depth=3, min_samples_split=8, n_estimators=446; total time=   0.3s\n",
      "[CV] END criterion=gini, max_depth=3, min_samples_split=8, n_estimators=446; total time=   0.3s\n",
      "[CV] END criterion=gini, max_depth=3, min_samples_split=8, n_estimators=446; total time=   0.3s\n",
      "[CV] END criterion=gini, max_depth=2, min_samples_split=9, n_estimators=159; total time=   0.1s\n",
      "[CV] END criterion=gini, max_depth=2, min_samples_split=9, n_estimators=159; total time=   0.2s\n",
      "[CV] END criterion=gini, max_depth=2, min_samples_split=9, n_estimators=159; total time=   0.1s\n",
      "[CV] END criterion=gini, max_depth=2, min_samples_split=9, n_estimators=159; total time=   0.2s\n",
      "[CV] END criterion=gini, max_depth=2, min_samples_split=9, n_estimators=159; total time=   0.2s\n",
      "[CV] END criterion=gini, max_depth=7, min_samples_split=10, n_estimators=443; total time=   0.4s\n",
      "[CV] END criterion=gini, max_depth=7, min_samples_split=10, n_estimators=443; total time=   0.5s\n",
      "[CV] END criterion=gini, max_depth=7, min_samples_split=10, n_estimators=443; total time=   0.4s\n",
      "[CV] END criterion=entropy, max_depth=None, min_samples_split=8, n_estimators=472; total time=   1.0s\n",
      "[CV] END criterion=gini, max_depth=7, min_samples_split=10, n_estimators=443; total time=   0.4s\n",
      "[CV] END criterion=entropy, max_depth=None, min_samples_split=8, n_estimators=472; total time=   1.0s\n",
      "[CV] END criterion=entropy, max_depth=None, min_samples_split=8, n_estimators=472; total time=   1.0s\n",
      "[CV] END criterion=entropy, max_depth=None, min_samples_split=8, n_estimators=472; total time=   0.9s\n",
      "[CV] END criterion=entropy, max_depth=3, min_samples_split=9, n_estimators=341; total time=   0.3s\n",
      "[CV] END criterion=entropy, max_depth=None, min_samples_split=8, n_estimators=472; total time=   0.9s\n",
      "[CV] END criterion=entropy, max_depth=3, min_samples_split=9, n_estimators=341; total time=   0.3s\n",
      "[CV] END criterion=entropy, max_depth=3, min_samples_split=9, n_estimators=341; total time=   0.3s\n",
      "[CV] END criterion=entropy, max_depth=3, min_samples_split=9, n_estimators=341; total time=   0.3s\n",
      "[CV] END criterion=entropy, max_depth=3, min_samples_split=9, n_estimators=341; total time=   0.3s\n",
      "[CV] END criterion=gini, max_depth=7, min_samples_split=10, n_estimators=443; total time=   0.4s\n",
      "[CV] END criterion=entropy, max_depth=4, min_samples_split=9, n_estimators=489; total time=   0.4s\n",
      "[CV] END criterion=entropy, max_depth=4, min_samples_split=9, n_estimators=489; total time=   0.5s\n",
      "[CV] END criterion=entropy, max_depth=4, min_samples_split=9, n_estimators=489; total time=   0.5s\n",
      "[CV] END criterion=entropy, max_depth=5, min_samples_split=8, n_estimators=410; total time=   0.5s\n",
      "[CV] END criterion=entropy, max_depth=5, min_samples_split=8, n_estimators=410; total time=   0.5s\n",
      "[CV] END criterion=entropy, max_depth=5, min_samples_split=8, n_estimators=410; total time=   0.5s\n",
      "[CV] END criterion=entropy, max_depth=4, min_samples_split=9, n_estimators=489; total time=   0.6s\n",
      "[CV] END criterion=entropy, max_depth=5, min_samples_split=8, n_estimators=410; total time=   0.5s\n",
      "[CV] END criterion=entropy, max_depth=4, min_samples_split=9, n_estimators=489; total time=   0.6s\n",
      "[CV] END criterion=entropy, max_depth=5, min_samples_split=8, n_estimators=410; total time=   0.4s\n",
      "[CV] END criterion=gini, max_depth=4, min_samples_split=10, n_estimators=419; total time=   0.4s\n",
      "[CV] END criterion=gini, max_depth=4, min_samples_split=10, n_estimators=419; total time=   0.4s\n",
      "[CV] END criterion=gini, max_depth=4, min_samples_split=10, n_estimators=419; total time=   0.4s\n",
      "[CV] END criterion=gini, max_depth=4, min_samples_split=10, n_estimators=419; total time=   0.4s\n",
      "[CV] END criterion=gini, max_depth=4, min_samples_split=10, n_estimators=419; total time=   0.4s\n",
      "[CV] END criterion=entropy, max_depth=7, min_samples_split=9, n_estimators=393; total time=   0.5s\n",
      "[CV] END criterion=entropy, max_depth=7, min_samples_split=9, n_estimators=393; total time=   0.5s\n",
      "[CV] END criterion=entropy, max_depth=7, min_samples_split=9, n_estimators=393; total time=   0.5s\n",
      "[CV] END criterion=entropy, max_depth=4, min_samples_split=9, n_estimators=181; total time=   0.2s\n",
      "[CV] END criterion=entropy, max_depth=4, min_samples_split=9, n_estimators=181; total time=   0.2s\n",
      "[CV] END criterion=entropy, max_depth=4, min_samples_split=9, n_estimators=181; total time=   0.2s\n",
      "[CV] END criterion=entropy, max_depth=4, min_samples_split=9, n_estimators=181; total time=   0.2s\n",
      "[CV] END criterion=entropy, max_depth=7, min_samples_split=9, n_estimators=393; total time=   0.5s\n",
      "[CV] END criterion=entropy, max_depth=2, min_samples_split=8, n_estimators=170; total time=   0.1s\n",
      "[CV] END criterion=entropy, max_depth=7, min_samples_split=9, n_estimators=393; total time=   0.5s\n",
      "[CV] END criterion=entropy, max_depth=2, min_samples_split=8, n_estimators=170; total time=   0.2s\n",
      "[CV] END criterion=entropy, max_depth=2, min_samples_split=8, n_estimators=170; total time=   0.2s\n",
      "[CV] END criterion=entropy, max_depth=4, min_samples_split=9, n_estimators=181; total time=   0.2s\n",
      "[CV] END criterion=entropy, max_depth=2, min_samples_split=8, n_estimators=170; total time=   0.2s\n",
      "[CV] END criterion=entropy, max_depth=2, min_samples_split=8, n_estimators=170; total time=   0.2s\n",
      "[CV] END criterion=gini, max_depth=None, min_samples_split=10, n_estimators=125; total time=   0.3s\n",
      "[CV] END criterion=gini, max_depth=None, min_samples_split=10, n_estimators=125; total time=   0.2s\n",
      "[CV] END criterion=gini, max_depth=None, min_samples_split=10, n_estimators=125; total time=   0.3s\n",
      "[CV] END criterion=entropy, max_depth=None, min_samples_split=8, n_estimators=103; total time=   0.2s\n",
      "[CV] END criterion=entropy, max_depth=None, min_samples_split=8, n_estimators=103; total time=   0.2s\n",
      "[CV] END criterion=entropy, max_depth=None, min_samples_split=8, n_estimators=103; total time=   0.2s\n",
      "[CV] END criterion=gini, max_depth=None, min_samples_split=10, n_estimators=125; total time=   0.3s\n",
      "[CV] END criterion=entropy, max_depth=None, min_samples_split=8, n_estimators=103; total time=   0.2s\n",
      "[CV] END criterion=gini, max_depth=None, min_samples_split=10, n_estimators=125; total time=   0.3s\n",
      "[CV] END criterion=entropy, max_depth=None, min_samples_split=8, n_estimators=103; total time=   0.3s\n",
      "[CV] END criterion=entropy, max_depth=3, min_samples_split=9, n_estimators=270; total time=   0.3s\n",
      "[CV] END criterion=entropy, max_depth=3, min_samples_split=9, n_estimators=270; total time=   0.3s\n",
      "[CV] END criterion=gini, max_depth=4, min_samples_split=9, n_estimators=228; total time=   0.2s\n",
      "[CV] END criterion=entropy, max_depth=3, min_samples_split=9, n_estimators=270; total time=   0.3s\n",
      "[CV] END criterion=gini, max_depth=4, min_samples_split=9, n_estimators=228; total time=   0.3s\n",
      "[CV] END criterion=gini, max_depth=4, min_samples_split=9, n_estimators=228; total time=   0.2s\n",
      "[CV] END criterion=entropy, max_depth=3, min_samples_split=9, n_estimators=270; total time=   0.3s\n",
      "[CV] END criterion=entropy, max_depth=3, min_samples_split=9, n_estimators=270; total time=   0.3s\n",
      "[CV] END criterion=gini, max_depth=4, min_samples_split=9, n_estimators=228; total time=   0.2s\n",
      "[CV] END criterion=gini, max_depth=4, min_samples_split=9, n_estimators=228; total time=   0.2s\n",
      "[CV] END criterion=entropy, max_depth=7, min_samples_split=10, n_estimators=378; total time=   0.4s\n",
      "[CV] END criterion=entropy, max_depth=7, min_samples_split=10, n_estimators=378; total time=   0.4s\n",
      "[CV] END criterion=entropy, max_depth=7, min_samples_split=10, n_estimators=378; total time=   0.4s\n",
      "[CV] END criterion=gini, max_depth=6, min_samples_split=9, n_estimators=411; total time=   0.4s\n",
      "[CV] END criterion=gini, max_depth=6, min_samples_split=9, n_estimators=411; total time=   0.4s\n",
      "[CV] END criterion=entropy, max_depth=7, min_samples_split=10, n_estimators=378; total time=   0.4s\n",
      "[CV] END criterion=entropy, max_depth=7, min_samples_split=10, n_estimators=378; total time=   0.4s\n",
      "[CV] END criterion=gini, max_depth=6, min_samples_split=9, n_estimators=411; total time=   0.4s\n",
      "[CV] END criterion=gini, max_depth=6, min_samples_split=9, n_estimators=411; total time=   0.4s\n",
      "[CV] END criterion=entropy, max_depth=2, min_samples_split=8, n_estimators=200; total time=   0.2s\n",
      "[CV] END criterion=entropy, max_depth=2, min_samples_split=8, n_estimators=200; total time=   0.2s\n",
      "[CV] END criterion=entropy, max_depth=2, min_samples_split=8, n_estimators=200; total time=   0.2s\n",
      "[CV] END criterion=entropy, max_depth=2, min_samples_split=8, n_estimators=200; total time=   0.2s\n",
      "[CV] END criterion=entropy, max_depth=2, min_samples_split=8, n_estimators=200; total time=   0.2s\n",
      "[CV] END criterion=entropy, max_depth=8, min_samples_split=9, n_estimators=100; total time=   0.1s\n",
      "[CV] END criterion=entropy, max_depth=8, min_samples_split=9, n_estimators=100; total time=   0.1s\n",
      "[CV] END criterion=entropy, max_depth=8, min_samples_split=9, n_estimators=100; total time=   0.1s\n",
      "[CV] END criterion=entropy, max_depth=3, min_samples_split=9, n_estimators=379; total time=   0.4s\n",
      "[CV] END criterion=gini, max_depth=6, min_samples_split=9, n_estimators=411; total time=   0.4s\n",
      "[CV] END criterion=entropy, max_depth=8, min_samples_split=9, n_estimators=100; total time=   0.1s\n",
      "[CV] END criterion=entropy, max_depth=8, min_samples_split=9, n_estimators=100; total time=   0.1s\n",
      "[CV] END criterion=entropy, max_depth=3, min_samples_split=9, n_estimators=379; total time=   0.3s\n",
      "[CV] END criterion=entropy, max_depth=3, min_samples_split=9, n_estimators=379; total time=   0.4s\n",
      "[CV] END criterion=entropy, max_depth=3, min_samples_split=9, n_estimators=379; total time=   0.4s\n",
      "[CV] END criterion=entropy, max_depth=3, min_samples_split=9, n_estimators=379; total time=   0.4s\n",
      "[CV] END criterion=entropy, max_depth=7, min_samples_split=10, n_estimators=218; total time=   0.3s\n",
      "[CV] END criterion=entropy, max_depth=7, min_samples_split=10, n_estimators=218; total time=   0.2s\n",
      "[CV] END criterion=gini, max_depth=4, min_samples_split=10, n_estimators=156; total time=   0.2s\n",
      "[CV] END criterion=gini, max_depth=4, min_samples_split=10, n_estimators=156; total time=   0.1s\n",
      "[CV] END criterion=entropy, max_depth=7, min_samples_split=10, n_estimators=218; total time=   0.2s\n",
      "[CV] END criterion=entropy, max_depth=7, min_samples_split=10, n_estimators=218; total time=   0.2s\n",
      "[CV] END criterion=gini, max_depth=4, min_samples_split=10, n_estimators=156; total time=   0.1s\n",
      "[CV] END criterion=entropy, max_depth=7, min_samples_split=10, n_estimators=218; total time=   0.3s\n",
      "[CV] END criterion=gini, max_depth=4, min_samples_split=10, n_estimators=156; total time=   0.2s\n",
      "[CV] END criterion=gini, max_depth=4, min_samples_split=10, n_estimators=156; total time=   0.2s\n",
      "[CV] END criterion=entropy, max_depth=8, min_samples_split=10, n_estimators=144; total time=   0.2s\n",
      "[CV] END criterion=entropy, max_depth=8, min_samples_split=10, n_estimators=144; total time=   0.2s\n",
      "[CV] END criterion=entropy, max_depth=8, min_samples_split=10, n_estimators=144; total time=   0.2s\n",
      "[CV] END criterion=entropy, max_depth=8, min_samples_split=10, n_estimators=144; total time=   0.2s\n",
      "[CV] END criterion=entropy, max_depth=8, min_samples_split=10, n_estimators=144; total time=   0.2s\n",
      "[CV] END criterion=entropy, max_depth=8, min_samples_split=8, n_estimators=404; total time=   0.6s\n",
      "[CV] END criterion=entropy, max_depth=8, min_samples_split=8, n_estimators=404; total time=   0.6s\n",
      "[CV] END criterion=entropy, max_depth=8, min_samples_split=8, n_estimators=404; total time=   0.6s\n",
      "[CV] END criterion=entropy, max_depth=8, min_samples_split=8, n_estimators=404; total time=   0.6s\n",
      "[CV] END criterion=entropy, max_depth=8, min_samples_split=8, n_estimators=404; total time=   0.6s\n",
      "[CV] END criterion=gini, max_depth=7, min_samples_split=8, n_estimators=420; total time=   0.5s\n",
      "[CV] END criterion=gini, max_depth=7, min_samples_split=8, n_estimators=420; total time=   0.5s\n",
      "[CV] END criterion=gini, max_depth=7, min_samples_split=8, n_estimators=420; total time=   0.5s\n",
      "[CV] END criterion=gini, max_depth=7, min_samples_split=8, n_estimators=420; total time=   0.5s\n",
      "[CV] END criterion=gini, max_depth=7, min_samples_split=8, n_estimators=420; total time=   0.5s\n",
      "[CV] END criterion=entropy, max_depth=8, min_samples_split=8, n_estimators=441; total time=   0.6s\n",
      "[CV] END criterion=entropy, max_depth=8, min_samples_split=8, n_estimators=441; total time=   0.6s\n",
      "[CV] END criterion=entropy, max_depth=8, min_samples_split=8, n_estimators=441; total time=   0.6s\n",
      "[CV] END criterion=entropy, max_depth=8, min_samples_split=8, n_estimators=441; total time=   0.6s\n",
      "[CV] END criterion=entropy, max_depth=8, min_samples_split=8, n_estimators=441; total time=   0.7s\n",
      "[CV] END criterion=entropy, max_depth=None, min_samples_split=10, n_estimators=275; total time=   0.7s\n",
      "[CV] END criterion=entropy, max_depth=None, min_samples_split=10, n_estimators=275; total time=   0.7s\n",
      "[CV] END criterion=gini, max_depth=7, min_samples_split=8, n_estimators=336; total time=   0.4s\n",
      "[CV] END criterion=gini, max_depth=7, min_samples_split=8, n_estimators=336; total time=   0.4s\n",
      "[CV] END criterion=gini, max_depth=7, min_samples_split=8, n_estimators=336; total time=   0.4s\n",
      "[CV] END criterion=entropy, max_depth=None, min_samples_split=10, n_estimators=275; total time=   0.6s\n",
      "[CV] END criterion=entropy, max_depth=None, min_samples_split=10, n_estimators=275; total time=   0.6s\n",
      "[CV] END criterion=gini, max_depth=2, min_samples_split=9, n_estimators=341; total time=   0.3s\n",
      "[CV] END criterion=gini, max_depth=7, min_samples_split=8, n_estimators=336; total time=   0.4s\n",
      "[CV] END criterion=entropy, max_depth=None, min_samples_split=10, n_estimators=275; total time=   0.7s\n",
      "[CV] END criterion=gini, max_depth=7, min_samples_split=8, n_estimators=336; total time=   0.4s\n",
      "[CV] END criterion=gini, max_depth=2, min_samples_split=9, n_estimators=341; total time=   0.3s\n",
      "[CV] END criterion=gini, max_depth=2, min_samples_split=9, n_estimators=341; total time=   0.3s\n",
      "[CV] END criterion=gini, max_depth=2, min_samples_split=9, n_estimators=341; total time=   0.3s\n",
      "[CV] END criterion=gini, max_depth=2, min_samples_split=9, n_estimators=341; total time=   0.2s\n",
      "[CV] END criterion=entropy, max_depth=6, min_samples_split=10, n_estimators=446; total time=   0.4s\n",
      "[CV] END criterion=entropy, max_depth=6, min_samples_split=10, n_estimators=446; total time=   0.4s\n",
      "[CV] END criterion=gini, max_depth=8, min_samples_split=9, n_estimators=326; total time=   0.3s\n",
      "[CV] END criterion=gini, max_depth=8, min_samples_split=9, n_estimators=326; total time=   0.3s\n",
      "[CV] END criterion=gini, max_depth=8, min_samples_split=9, n_estimators=326; total time=   0.3s\n",
      "[CV] END criterion=gini, max_depth=8, min_samples_split=9, n_estimators=326; total time=   0.4s\n",
      "[CV] END criterion=entropy, max_depth=6, min_samples_split=10, n_estimators=446; total time=   0.5s\n",
      "[CV] END criterion=entropy, max_depth=6, min_samples_split=10, n_estimators=446; total time=   0.5s\n",
      "[CV] END criterion=entropy, max_depth=6, min_samples_split=10, n_estimators=446; total time=   0.5s\n",
      "[CV] END criterion=gini, max_depth=8, min_samples_split=9, n_estimators=326; total time=   0.3s\n",
      "[CV] END criterion=gini, max_depth=5, min_samples_split=8, n_estimators=250; total time=   0.3s\n",
      "[CV] END criterion=gini, max_depth=5, min_samples_split=8, n_estimators=250; total time=   0.3s\n",
      "[CV] END criterion=gini, max_depth=5, min_samples_split=8, n_estimators=250; total time=   0.3s\n",
      "[CV] END criterion=entropy, max_depth=6, min_samples_split=8, n_estimators=388; total time=   0.4s\n",
      "[CV] END criterion=entropy, max_depth=6, min_samples_split=8, n_estimators=388; total time=   0.5s\n",
      "[CV] END criterion=entropy, max_depth=6, min_samples_split=8, n_estimators=388; total time=   0.5s\n",
      "[CV] END criterion=gini, max_depth=5, min_samples_split=8, n_estimators=250; total time=   0.3s\n",
      "[CV] END criterion=entropy, max_depth=6, min_samples_split=8, n_estimators=388; total time=   0.5s\n",
      "[CV] END criterion=entropy, max_depth=6, min_samples_split=8, n_estimators=388; total time=   0.5s\n",
      "[CV] END criterion=gini, max_depth=7, min_samples_split=10, n_estimators=152; total time=   0.2s\n",
      "[CV] END criterion=gini, max_depth=7, min_samples_split=10, n_estimators=152; total time=   0.1s\n",
      "[CV] END criterion=gini, max_depth=7, min_samples_split=10, n_estimators=152; total time=   0.1s\n",
      "[CV] END criterion=gini, max_depth=5, min_samples_split=8, n_estimators=250; total time=   0.2s\n",
      "[CV] END criterion=gini, max_depth=7, min_samples_split=10, n_estimators=152; total time=   0.1s\n",
      "[CV] END criterion=gini, max_depth=7, min_samples_split=10, n_estimators=152; total time=   0.1s\n",
      "[CV] END criterion=entropy, max_depth=8, min_samples_split=8, n_estimators=292; total time=   0.3s\n",
      "[CV] END criterion=entropy, max_depth=8, min_samples_split=8, n_estimators=292; total time=   0.3s\n",
      "[CV] END criterion=entropy, max_depth=8, min_samples_split=8, n_estimators=292; total time=   0.3s\n",
      "[CV] END criterion=entropy, max_depth=8, min_samples_split=8, n_estimators=292; total time=   0.3s\n",
      "[CV] END criterion=entropy, max_depth=6, min_samples_split=9, n_estimators=318; total time=   0.2s\n",
      "[CV] END criterion=entropy, max_depth=8, min_samples_split=8, n_estimators=292; total time=   0.3s\n",
      "[CV] END criterion=entropy, max_depth=6, min_samples_split=9, n_estimators=318; total time=   0.3s\n",
      "[CV] END criterion=entropy, max_depth=6, min_samples_split=9, n_estimators=318; total time=   0.3s\n",
      "[CV] END criterion=entropy, max_depth=6, min_samples_split=9, n_estimators=318; total time=   0.4s\n",
      "[CV] END criterion=entropy, max_depth=6, min_samples_split=9, n_estimators=318; total time=   0.3s\n",
      "[CV] END criterion=gini, max_depth=8, min_samples_split=8, n_estimators=406; total time=   0.3s\n",
      "[CV] END criterion=gini, max_depth=8, min_samples_split=8, n_estimators=406; total time=   0.3s\n",
      "[CV] END criterion=gini, max_depth=8, min_samples_split=8, n_estimators=406; total time=   0.4s\n",
      "[CV] END criterion=gini, max_depth=8, min_samples_split=8, n_estimators=406; total time=   0.4s\n",
      "[CV] END criterion=gini, max_depth=8, min_samples_split=8, n_estimators=406; total time=   0.4s\n",
      "[CV] END criterion=entropy, max_depth=8, min_samples_split=10, n_estimators=175; total time=   0.2s\n",
      "[CV] END criterion=entropy, max_depth=8, min_samples_split=10, n_estimators=175; total time=   0.2s\n",
      "[CV] END criterion=entropy, max_depth=8, min_samples_split=10, n_estimators=175; total time=   0.2s\n",
      "[CV] END criterion=entropy, max_depth=8, min_samples_split=10, n_estimators=175; total time=   0.2s\n",
      "[CV] END criterion=entropy, max_depth=None, min_samples_split=8, n_estimators=309; total time=   0.5s\n",
      "[CV] END criterion=entropy, max_depth=None, min_samples_split=8, n_estimators=309; total time=   0.6s\n",
      "[CV] END criterion=entropy, max_depth=8, min_samples_split=10, n_estimators=175; total time=   0.2s\n",
      "[CV] END criterion=entropy, max_depth=None, min_samples_split=8, n_estimators=309; total time=   0.6s\n",
      "[CV] END criterion=entropy, max_depth=None, min_samples_split=8, n_estimators=309; total time=   0.5s\n",
      "[CV] END criterion=gini, max_depth=None, min_samples_split=9, n_estimators=189; total time=   0.3s\n",
      "[CV] END criterion=gini, max_depth=None, min_samples_split=9, n_estimators=189; total time=   0.3s\n",
      "[CV] END criterion=entropy, max_depth=None, min_samples_split=8, n_estimators=309; total time=   0.5s\n",
      "[CV] END criterion=gini, max_depth=None, min_samples_split=9, n_estimators=189; total time=   0.3s\n",
      "[CV] END criterion=gini, max_depth=3, min_samples_split=8, n_estimators=369; total time=   0.3s\n",
      "[CV] END criterion=gini, max_depth=None, min_samples_split=9, n_estimators=189; total time=   0.3s\n",
      "[CV] END criterion=gini, max_depth=None, min_samples_split=9, n_estimators=189; total time=   0.4s\n",
      "[CV] END criterion=gini, max_depth=3, min_samples_split=8, n_estimators=369; total time=   0.2s\n",
      "[CV] END criterion=gini, max_depth=3, min_samples_split=8, n_estimators=369; total time=   0.3s\n",
      "[CV] END criterion=gini, max_depth=3, min_samples_split=8, n_estimators=369; total time=   0.2s\n",
      "[CV] END criterion=gini, max_depth=3, min_samples_split=8, n_estimators=369; total time=   0.2s\n",
      "[CV] END criterion=gini, max_depth=4, min_samples_split=10, n_estimators=352; total time=   0.2s\n",
      "[CV] END criterion=gini, max_depth=4, min_samples_split=10, n_estimators=352; total time=   0.2s\n",
      "[CV] END criterion=gini, max_depth=4, min_samples_split=10, n_estimators=352; total time=   0.2s\n",
      "[CV] END criterion=gini, max_depth=4, min_samples_split=10, n_estimators=352; total time=   0.2s\n",
      "[CV] END criterion=gini, max_depth=4, min_samples_split=10, n_estimators=155; total time=   0.1s\n",
      "[CV] END criterion=gini, max_depth=4, min_samples_split=10, n_estimators=155; total time=   0.1s\n",
      "[CV] END criterion=gini, max_depth=4, min_samples_split=10, n_estimators=155; total time=   0.1s\n",
      "[CV] END criterion=gini, max_depth=4, min_samples_split=10, n_estimators=155; total time=   0.1s\n",
      "[CV] END criterion=gini, max_depth=4, min_samples_split=10, n_estimators=352; total time=   0.3s\n",
      "[CV] END criterion=gini, max_depth=None, min_samples_split=10, n_estimators=427; total time=   0.7s\n",
      "[CV] END criterion=gini, max_depth=4, min_samples_split=10, n_estimators=155; total time=   0.1s\n",
      "[CV] END criterion=gini, max_depth=None, min_samples_split=10, n_estimators=427; total time=   0.7s\n",
      "[CV] END criterion=gini, max_depth=6, min_samples_split=8, n_estimators=157; total time=   0.1s\n",
      "[CV] END criterion=gini, max_depth=None, min_samples_split=10, n_estimators=427; total time=   0.7s\n",
      "[CV] END criterion=gini, max_depth=6, min_samples_split=8, n_estimators=157; total time=   0.1s\n",
      "[CV] END criterion=gini, max_depth=None, min_samples_split=10, n_estimators=427; total time=   0.7s\n",
      "[CV] END criterion=gini, max_depth=6, min_samples_split=8, n_estimators=157; total time=   0.1s\n",
      "[CV] END criterion=gini, max_depth=None, min_samples_split=10, n_estimators=427; total time=   0.7s\n",
      "[CV] END criterion=gini, max_depth=6, min_samples_split=8, n_estimators=157; total time=   0.1s\n",
      "[CV] END criterion=gini, max_depth=6, min_samples_split=8, n_estimators=157; total time=   0.1s\n",
      "[CV] END criterion=gini, max_depth=7, min_samples_split=9, n_estimators=238; total time=   0.2s\n",
      "[CV] END criterion=gini, max_depth=7, min_samples_split=9, n_estimators=238; total time=   0.2s\n",
      "[CV] END criterion=gini, max_depth=7, min_samples_split=9, n_estimators=238; total time=   0.2s\n",
      "[CV] END criterion=gini, max_depth=7, min_samples_split=9, n_estimators=238; total time=   0.2s\n",
      "[CV] END criterion=entropy, max_depth=8, min_samples_split=9, n_estimators=454; total time=   0.4s\n",
      "[CV] END criterion=entropy, max_depth=8, min_samples_split=9, n_estimators=454; total time=   0.4s\n",
      "[CV] END criterion=entropy, max_depth=8, min_samples_split=9, n_estimators=454; total time=   0.5s\n",
      "[CV] END criterion=entropy, max_depth=8, min_samples_split=9, n_estimators=454; total time=   0.4s\n",
      "[CV] END criterion=gini, max_depth=7, min_samples_split=9, n_estimators=238; total time=   0.2s\n",
      "[CV] END criterion=entropy, max_depth=8, min_samples_split=9, n_estimators=454; total time=   0.5s\n",
      "[CV] END criterion=entropy, max_depth=3, min_samples_split=10, n_estimators=269; total time=   0.2s\n",
      "[CV] END criterion=entropy, max_depth=3, min_samples_split=10, n_estimators=269; total time=   0.2s\n",
      "[CV] END criterion=entropy, max_depth=3, min_samples_split=10, n_estimators=269; total time=   0.2s\n",
      "[CV] END criterion=entropy, max_depth=3, min_samples_split=10, n_estimators=269; total time=   0.2s\n",
      "[CV] END criterion=gini, max_depth=None, min_samples_split=9, n_estimators=321; total time=   0.5s\n",
      "[CV] END criterion=gini, max_depth=None, min_samples_split=9, n_estimators=321; total time=   0.5s\n",
      "[CV] END criterion=gini, max_depth=None, min_samples_split=9, n_estimators=321; total time=   0.5s\n",
      "[CV] END criterion=entropy, max_depth=3, min_samples_split=10, n_estimators=269; total time=   0.2s\n",
      "[CV] END criterion=gini, max_depth=None, min_samples_split=9, n_estimators=321; total time=   0.5s\n",
      "[CV] END criterion=entropy, max_depth=2, min_samples_split=8, n_estimators=461; total time=   0.3s\n",
      "[CV] END criterion=entropy, max_depth=2, min_samples_split=8, n_estimators=461; total time=   0.3s\n",
      "[CV] END criterion=entropy, max_depth=2, min_samples_split=8, n_estimators=461; total time=   0.3s\n",
      "[CV] END criterion=gini, max_depth=7, min_samples_split=9, n_estimators=206; total time=   0.2s\n",
      "[CV] END criterion=gini, max_depth=None, min_samples_split=9, n_estimators=321; total time=   0.6s\n",
      "[CV] END criterion=gini, max_depth=7, min_samples_split=9, n_estimators=206; total time=   0.2s\n",
      "[CV] END criterion=entropy, max_depth=2, min_samples_split=8, n_estimators=461; total time=   0.3s\n",
      "[CV] END criterion=gini, max_depth=7, min_samples_split=9, n_estimators=206; total time=   0.2s\n",
      "[CV] END criterion=entropy, max_depth=2, min_samples_split=8, n_estimators=461; total time=   0.3s\n",
      "[CV] END criterion=gini, max_depth=7, min_samples_split=9, n_estimators=206; total time=   0.2s\n",
      "[CV] END criterion=gini, max_depth=7, min_samples_split=9, n_estimators=206; total time=   0.2s\n",
      "[CV] END criterion=entropy, max_depth=7, min_samples_split=8, n_estimators=175; total time=   0.2s\n",
      "[CV] END criterion=entropy, max_depth=7, min_samples_split=8, n_estimators=175; total time=   0.2s\n",
      "[CV] END criterion=entropy, max_depth=7, min_samples_split=8, n_estimators=175; total time=   0.2s\n",
      "[CV] END criterion=entropy, max_depth=6, min_samples_split=8, n_estimators=110; total time=   0.1s\n",
      "[CV] END criterion=entropy, max_depth=6, min_samples_split=8, n_estimators=110; total time=   0.1s\n",
      "[CV] END criterion=entropy, max_depth=6, min_samples_split=8, n_estimators=110; total time=   0.1s\n",
      "[CV] END criterion=entropy, max_depth=6, min_samples_split=8, n_estimators=110; total time=   0.1s\n",
      "[CV] END criterion=entropy, max_depth=7, min_samples_split=8, n_estimators=175; total time=   0.2s\n",
      "[CV] END criterion=entropy, max_depth=6, min_samples_split=8, n_estimators=110; total time=   0.1s\n",
      "[CV] END criterion=entropy, max_depth=7, min_samples_split=8, n_estimators=175; total time=   0.2s\n",
      "[CV] END criterion=entropy, max_depth=2, min_samples_split=9, n_estimators=465; total time=   0.3s\n",
      "[CV] END criterion=entropy, max_depth=7, min_samples_split=10, n_estimators=276; total time=   0.2s\n",
      "[CV] END criterion=entropy, max_depth=7, min_samples_split=10, n_estimators=276; total time=   0.3s\n",
      "[CV] END criterion=entropy, max_depth=2, min_samples_split=9, n_estimators=465; total time=   0.3s\n",
      "[CV] END criterion=entropy, max_depth=2, min_samples_split=9, n_estimators=465; total time=   0.3s\n",
      "[CV] END criterion=entropy, max_depth=7, min_samples_split=10, n_estimators=276; total time=   0.3s\n",
      "[CV] END criterion=entropy, max_depth=2, min_samples_split=9, n_estimators=465; total time=   0.3s\n",
      "[CV] END criterion=entropy, max_depth=7, min_samples_split=10, n_estimators=276; total time=   0.3s\n",
      "[CV] END criterion=entropy, max_depth=2, min_samples_split=9, n_estimators=465; total time=   0.3s\n",
      "[CV] END criterion=gini, max_depth=4, min_samples_split=10, n_estimators=188; total time=   0.1s\n",
      "[CV] END criterion=gini, max_depth=4, min_samples_split=10, n_estimators=188; total time=   0.1s\n",
      "[CV] END criterion=gini, max_depth=4, min_samples_split=10, n_estimators=188; total time=   0.1s\n",
      "[CV] END criterion=gini, max_depth=4, min_samples_split=10, n_estimators=188; total time=   0.1s\n",
      "[CV] END criterion=gini, max_depth=4, min_samples_split=10, n_estimators=188; total time=   0.1s\n",
      "[CV] END criterion=entropy, max_depth=7, min_samples_split=10, n_estimators=276; total time=   0.3s\n",
      "[CV] END criterion=gini, max_depth=None, min_samples_split=10, n_estimators=215; total time=   0.3s\n",
      "[CV] END criterion=gini, max_depth=None, min_samples_split=10, n_estimators=215; total time=   0.3s\n",
      "[CV] END criterion=gini, max_depth=None, min_samples_split=10, n_estimators=215; total time=   0.4s\n",
      "[CV] END criterion=entropy, max_depth=6, min_samples_split=8, n_estimators=116; total time=   0.1s\n",
      "[CV] END criterion=entropy, max_depth=6, min_samples_split=8, n_estimators=116; total time=   0.1s\n",
      "[CV] END criterion=gini, max_depth=None, min_samples_split=10, n_estimators=215; total time=   0.4s\n",
      "[CV] END criterion=gini, max_depth=None, min_samples_split=10, n_estimators=215; total time=   0.4s\n",
      "[CV] END criterion=entropy, max_depth=7, min_samples_split=9, n_estimators=459; total time=   0.4s\n",
      "[CV] END criterion=entropy, max_depth=7, min_samples_split=9, n_estimators=459; total time=   0.4s\n",
      "[CV] END criterion=entropy, max_depth=6, min_samples_split=8, n_estimators=116; total time=   0.1s\n",
      "[CV] END criterion=entropy, max_depth=7, min_samples_split=9, n_estimators=459; total time=   0.5s\n",
      "[CV] END criterion=entropy, max_depth=6, min_samples_split=8, n_estimators=116; total time=   0.1s\n",
      "[CV] END criterion=entropy, max_depth=6, min_samples_split=8, n_estimators=116; total time=   0.1s\n",
      "[CV] END criterion=entropy, max_depth=7, min_samples_split=9, n_estimators=459; total time=   0.4s\n",
      "[CV] END criterion=gini, max_depth=3, min_samples_split=10, n_estimators=373; total time=   0.3s\n",
      "[CV] END criterion=entropy, max_depth=7, min_samples_split=9, n_estimators=459; total time=   0.5s\n",
      "[CV] END criterion=gini, max_depth=3, min_samples_split=10, n_estimators=373; total time=   0.3s\n",
      "[CV] END criterion=gini, max_depth=3, min_samples_split=10, n_estimators=373; total time=   0.3s\n",
      "[CV] END criterion=gini, max_depth=3, min_samples_split=10, n_estimators=373; total time=   0.3s\n",
      "[CV] END criterion=gini, max_depth=3, min_samples_split=10, n_estimators=373; total time=   0.4s\n",
      "[CV] END criterion=entropy, max_depth=5, min_samples_split=9, n_estimators=298; total time=   0.3s\n",
      "[CV] END criterion=entropy, max_depth=5, min_samples_split=9, n_estimators=298; total time=   0.3s\n",
      "[CV] END criterion=entropy, max_depth=5, min_samples_split=9, n_estimators=298; total time=   0.2s\n",
      "[CV] END criterion=entropy, max_depth=5, min_samples_split=9, n_estimators=298; total time=   0.3s\n",
      "[CV] END criterion=gini, max_depth=None, min_samples_split=9, n_estimators=459; total time=   0.8s\n",
      "[CV] END criterion=entropy, max_depth=5, min_samples_split=9, n_estimators=298; total time=   0.3s\n",
      "[CV] END criterion=gini, max_depth=None, min_samples_split=9, n_estimators=459; total time=   0.8s\n",
      "[CV] END criterion=gini, max_depth=None, min_samples_split=9, n_estimators=459; total time=   0.8s\n",
      "[CV] END criterion=gini, max_depth=6, min_samples_split=8, n_estimators=474; total time=   0.4s\n",
      "[CV] END criterion=gini, max_depth=6, min_samples_split=8, n_estimators=474; total time=   0.4s\n",
      "[CV] END criterion=gini, max_depth=None, min_samples_split=9, n_estimators=459; total time=   0.8s\n",
      "[CV] END criterion=gini, max_depth=None, min_samples_split=9, n_estimators=459; total time=   0.8s\n",
      "[CV] END criterion=gini, max_depth=6, min_samples_split=8, n_estimators=474; total time=   0.4s\n",
      "[CV] END criterion=entropy, max_depth=4, min_samples_split=10, n_estimators=288; total time=   0.2s\n",
      "[CV] END criterion=entropy, max_depth=4, min_samples_split=10, n_estimators=288; total time=   0.3s\n",
      "[CV] END criterion=entropy, max_depth=4, min_samples_split=10, n_estimators=288; total time=   0.3s\n",
      "[CV] END criterion=entropy, max_depth=4, min_samples_split=10, n_estimators=288; total time=   0.3s\n",
      "[CV] END criterion=gini, max_depth=6, min_samples_split=8, n_estimators=474; total time=   0.4s\n",
      "[CV] END criterion=entropy, max_depth=4, min_samples_split=10, n_estimators=288; total time=   0.3s\n",
      "[CV] END criterion=gini, max_depth=6, min_samples_split=8, n_estimators=474; total time=   0.5s\n",
      "[CV] END criterion=entropy, max_depth=4, min_samples_split=9, n_estimators=157; total time=   0.2s\n",
      "[CV] END criterion=entropy, max_depth=4, min_samples_split=9, n_estimators=157; total time=   0.1s\n",
      "[CV] END criterion=entropy, max_depth=4, min_samples_split=9, n_estimators=157; total time=   0.2s\n",
      "[CV] END criterion=entropy, max_depth=4, min_samples_split=9, n_estimators=157; total time=   0.1s\n",
      "[CV] END criterion=entropy, max_depth=4, min_samples_split=9, n_estimators=157; total time=   0.1s\n",
      "[CV] END criterion=entropy, max_depth=6, min_samples_split=8, n_estimators=437; total time=   0.5s\n",
      "[CV] END criterion=entropy, max_depth=6, min_samples_split=8, n_estimators=437; total time=   0.5s\n",
      "[CV] END criterion=entropy, max_depth=6, min_samples_split=8, n_estimators=437; total time=   0.5s\n",
      "[CV] END criterion=entropy, max_depth=6, min_samples_split=8, n_estimators=437; total time=   0.5s\n",
      "[CV] END criterion=entropy, max_depth=6, min_samples_split=8, n_estimators=437; total time=   0.5s\n",
      "[CV] END criterion=gini, max_depth=4, min_samples_split=9, n_estimators=406; total time=   0.5s\n",
      "[CV] END criterion=gini, max_depth=4, min_samples_split=9, n_estimators=406; total time=   0.4s\n",
      "[CV] END criterion=gini, max_depth=4, min_samples_split=9, n_estimators=406; total time=   0.5s\n",
      "[CV] END criterion=gini, max_depth=4, min_samples_split=9, n_estimators=406; total time=   0.5s\n",
      "[CV] END criterion=entropy, max_depth=6, min_samples_split=10, n_estimators=337; total time=   0.5s\n",
      "[CV] END criterion=entropy, max_depth=2, min_samples_split=9, n_estimators=118; total time=   0.1s\n",
      "[CV] END criterion=entropy, max_depth=2, min_samples_split=9, n_estimators=118; total time=   0.1s\n",
      "[CV] END criterion=entropy, max_depth=6, min_samples_split=10, n_estimators=337; total time=   0.5s\n",
      "[CV] END criterion=gini, max_depth=4, min_samples_split=9, n_estimators=406; total time=   0.5s\n",
      "[CV] END criterion=entropy, max_depth=6, min_samples_split=10, n_estimators=337; total time=   0.5s\n",
      "[CV] END criterion=entropy, max_depth=2, min_samples_split=9, n_estimators=118; total time=   0.1s\n",
      "[CV] END criterion=entropy, max_depth=2, min_samples_split=9, n_estimators=118; total time=   0.1s\n",
      "[CV] END criterion=entropy, max_depth=2, min_samples_split=9, n_estimators=118; total time=   0.1s\n",
      "[CV] END criterion=entropy, max_depth=6, min_samples_split=10, n_estimators=337; total time=   0.5s\n",
      "[CV] END criterion=entropy, max_depth=6, min_samples_split=10, n_estimators=337; total time=   0.4s\n",
      "[CV] END criterion=entropy, max_depth=5, min_samples_split=9, n_estimators=350; total time=   0.4s\n",
      "[CV] END criterion=entropy, max_depth=5, min_samples_split=9, n_estimators=350; total time=   0.4s\n",
      "[CV] END criterion=entropy, max_depth=5, min_samples_split=9, n_estimators=350; total time=   0.4s\n",
      "[CV] END criterion=entropy, max_depth=5, min_samples_split=9, n_estimators=350; total time=   0.4s\n",
      "[CV] END criterion=entropy, max_depth=5, min_samples_split=9, n_estimators=350; total time=   0.4s\n",
      "[CV] END criterion=gini, max_depth=7, min_samples_split=8, n_estimators=331; total time=   0.4s\n",
      "[CV] END criterion=gini, max_depth=None, min_samples_split=8, n_estimators=443; total time=   1.0s\n",
      "[CV] END criterion=gini, max_depth=7, min_samples_split=8, n_estimators=331; total time=   0.4s\n",
      "[CV] END criterion=gini, max_depth=None, min_samples_split=8, n_estimators=443; total time=   1.0s\n",
      "[CV] END criterion=gini, max_depth=None, min_samples_split=8, n_estimators=443; total time=   1.0s\n",
      "[CV] END criterion=gini, max_depth=None, min_samples_split=8, n_estimators=443; total time=   1.0s\n",
      "[CV] END criterion=gini, max_depth=None, min_samples_split=8, n_estimators=443; total time=   1.0s\n",
      "[CV] END criterion=gini, max_depth=7, min_samples_split=8, n_estimators=331; total time=   0.4s\n",
      "[CV] END criterion=entropy, max_depth=3, min_samples_split=8, n_estimators=169; total time=   0.2s\n",
      "[CV] END criterion=entropy, max_depth=3, min_samples_split=8, n_estimators=169; total time=   0.2s\n",
      "[CV] END criterion=gini, max_depth=7, min_samples_split=8, n_estimators=331; total time=   0.3s\n",
      "[CV] END criterion=entropy, max_depth=3, min_samples_split=8, n_estimators=169; total time=   0.2s\n",
      "[CV] END criterion=entropy, max_depth=3, min_samples_split=8, n_estimators=169; total time=   0.2s\n",
      "[CV] END criterion=entropy, max_depth=3, min_samples_split=8, n_estimators=169; total time=   0.2s\n",
      "[CV] END criterion=gini, max_depth=8, min_samples_split=10, n_estimators=211; total time=   0.2s\n",
      "[CV] END criterion=gini, max_depth=8, min_samples_split=10, n_estimators=211; total time=   0.2s\n",
      "[CV] END criterion=gini, max_depth=7, min_samples_split=8, n_estimators=331; total time=   0.4s\n",
      "[CV] END criterion=gini, max_depth=8, min_samples_split=10, n_estimators=211; total time=   0.2s\n",
      "[CV] END criterion=gini, max_depth=8, min_samples_split=10, n_estimators=211; total time=   0.2s\n",
      "[CV] END criterion=gini, max_depth=8, min_samples_split=10, n_estimators=211; total time=   0.2s\n",
      "[CV] END criterion=entropy, max_depth=4, min_samples_split=8, n_estimators=360; total time=   0.3s\n",
      "[CV] END criterion=entropy, max_depth=4, min_samples_split=8, n_estimators=360; total time=   0.3s\n",
      "[CV] END criterion=entropy, max_depth=4, min_samples_split=8, n_estimators=360; total time=   0.3s\n",
      "[CV] END criterion=entropy, max_depth=4, min_samples_split=8, n_estimators=360; total time=   0.3s\n",
      "[CV] END criterion=entropy, max_depth=4, min_samples_split=8, n_estimators=360; total time=   0.3s\n",
      "[CV] END criterion=entropy, max_depth=7, min_samples_split=8, n_estimators=440; total time=   0.5s\n",
      "[CV] END criterion=entropy, max_depth=7, min_samples_split=8, n_estimators=440; total time=   0.5s\n",
      "[CV] END criterion=entropy, max_depth=7, min_samples_split=8, n_estimators=440; total time=   0.5s\n",
      "[CV] END criterion=gini, max_depth=7, min_samples_split=9, n_estimators=358; total time=   0.4s\n",
      "[CV] END criterion=gini, max_depth=7, min_samples_split=9, n_estimators=358; total time=   0.3s\n",
      "[CV] END criterion=gini, max_depth=7, min_samples_split=9, n_estimators=358; total time=   0.4s\n",
      "[CV] END criterion=entropy, max_depth=7, min_samples_split=8, n_estimators=440; total time=   0.5s\n",
      "[CV] END criterion=entropy, max_depth=7, min_samples_split=8, n_estimators=440; total time=   0.6s\n",
      "[CV] END criterion=gini, max_depth=7, min_samples_split=9, n_estimators=358; total time=   0.4s\n",
      "[CV] END criterion=entropy, max_depth=2, min_samples_split=10, n_estimators=283; total time=   0.2s\n",
      "[CV] END criterion=entropy, max_depth=2, min_samples_split=10, n_estimators=283; total time=   0.2s\n",
      "[CV] END criterion=gini, max_depth=4, min_samples_split=8, n_estimators=387; total time=   0.3s\n",
      "[CV] END criterion=gini, max_depth=7, min_samples_split=9, n_estimators=358; total time=   0.4s\n",
      "[CV] END criterion=gini, max_depth=4, min_samples_split=8, n_estimators=387; total time=   0.3s\n",
      "[CV] END criterion=gini, max_depth=4, min_samples_split=8, n_estimators=387; total time=   0.4s\n",
      "[CV] END criterion=gini, max_depth=4, min_samples_split=8, n_estimators=387; total time=   0.3s\n",
      "[CV] END criterion=gini, max_depth=4, min_samples_split=8, n_estimators=387; total time=   0.3s\n",
      "[CV] END criterion=entropy, max_depth=2, min_samples_split=10, n_estimators=283; total time=   0.2s\n",
      "[CV] END criterion=entropy, max_depth=2, min_samples_split=10, n_estimators=283; total time=   0.2s\n",
      "[CV] END criterion=entropy, max_depth=2, min_samples_split=10, n_estimators=283; total time=   0.2s\n",
      "[CV] END criterion=entropy, max_depth=4, min_samples_split=10, n_estimators=229; total time=   0.2s\n",
      "[CV] END criterion=entropy, max_depth=4, min_samples_split=10, n_estimators=229; total time=   0.2s\n",
      "[CV] END criterion=entropy, max_depth=5, min_samples_split=9, n_estimators=366; total time=   0.3s\n",
      "[CV] END criterion=entropy, max_depth=5, min_samples_split=9, n_estimators=366; total time=   0.3s\n",
      "[CV] END criterion=entropy, max_depth=5, min_samples_split=9, n_estimators=366; total time=   0.3s\n",
      "[CV] END criterion=entropy, max_depth=5, min_samples_split=9, n_estimators=366; total time=   0.3s\n",
      "[CV] END criterion=entropy, max_depth=5, min_samples_split=9, n_estimators=366; total time=   0.3s\n",
      "[CV] END criterion=entropy, max_depth=4, min_samples_split=10, n_estimators=229; total time=   0.2s\n",
      "[CV] END criterion=entropy, max_depth=4, min_samples_split=10, n_estimators=229; total time=   0.2s\n",
      "[CV] END criterion=entropy, max_depth=4, min_samples_split=10, n_estimators=229; total time=   0.2s\n",
      "[CV] END criterion=entropy, max_depth=6, min_samples_split=9, n_estimators=115; total time=   0.1s\n",
      "[CV] END criterion=entropy, max_depth=6, min_samples_split=9, n_estimators=115; total time=   0.1s\n",
      "[CV] END criterion=entropy, max_depth=6, min_samples_split=9, n_estimators=115; total time=   0.1s\n",
      "[CV] END criterion=entropy, max_depth=6, min_samples_split=9, n_estimators=115; total time=   0.1s\n",
      "[CV] END criterion=entropy, max_depth=8, min_samples_split=8, n_estimators=330; total time=   0.4s\n",
      "[CV] END criterion=entropy, max_depth=8, min_samples_split=8, n_estimators=330; total time=   0.4s\n",
      "[CV] END criterion=entropy, max_depth=8, min_samples_split=8, n_estimators=330; total time=   0.4s\n",
      "[CV] END criterion=entropy, max_depth=8, min_samples_split=8, n_estimators=330; total time=   0.4s\n",
      "[CV] END criterion=entropy, max_depth=6, min_samples_split=9, n_estimators=115; total time=   0.3s\n",
      "[CV] END criterion=entropy, max_depth=2, min_samples_split=8, n_estimators=426; total time=   0.3s\n",
      "[CV] END criterion=entropy, max_depth=8, min_samples_split=8, n_estimators=330; total time=   0.5s\n",
      "[CV] END criterion=entropy, max_depth=2, min_samples_split=8, n_estimators=426; total time=   0.3s\n",
      "[CV] END criterion=entropy, max_depth=2, min_samples_split=8, n_estimators=426; total time=   0.3s\n",
      "[CV] END criterion=entropy, max_depth=8, min_samples_split=10, n_estimators=112; total time=   0.1s\n",
      "[CV] END criterion=entropy, max_depth=8, min_samples_split=10, n_estimators=112; total time=   0.1s\n",
      "[CV] END criterion=entropy, max_depth=2, min_samples_split=8, n_estimators=426; total time=   0.3s\n",
      "[CV] END criterion=entropy, max_depth=2, min_samples_split=8, n_estimators=426; total time=   0.3s\n",
      "[CV] END criterion=entropy, max_depth=4, min_samples_split=10, n_estimators=367; total time=   0.3s\n",
      "[CV] END criterion=entropy, max_depth=4, min_samples_split=10, n_estimators=367; total time=   0.3s\n",
      "[CV] END criterion=entropy, max_depth=4, min_samples_split=10, n_estimators=367; total time=   0.3s\n",
      "[CV] END criterion=entropy, max_depth=8, min_samples_split=10, n_estimators=112; total time=   0.1s\n",
      "[CV] END criterion=entropy, max_depth=8, min_samples_split=10, n_estimators=112; total time=   0.1s\n",
      "[CV] END criterion=entropy, max_depth=4, min_samples_split=10, n_estimators=367; total time=   0.3s\n",
      "[CV] END criterion=entropy, max_depth=8, min_samples_split=10, n_estimators=112; total time=   0.1s\n",
      "[CV] END criterion=entropy, max_depth=4, min_samples_split=10, n_estimators=367; total time=   0.3s\n",
      "[CV] END criterion=gini, max_depth=5, min_samples_split=10, n_estimators=420; total time=   0.4s\n",
      "[CV] END criterion=gini, max_depth=5, min_samples_split=10, n_estimators=420; total time=   0.3s\n",
      "[CV] END criterion=gini, max_depth=5, min_samples_split=10, n_estimators=420; total time=   0.3s\n",
      "[CV] END criterion=gini, max_depth=5, min_samples_split=10, n_estimators=420; total time=   0.4s\n",
      "[CV] END criterion=gini, max_depth=5, min_samples_split=10, n_estimators=420; total time=   0.3s\n",
      "[CV] END criterion=entropy, max_depth=6, min_samples_split=8, n_estimators=105; total time=   0.1s\n",
      "[CV] END criterion=entropy, max_depth=6, min_samples_split=8, n_estimators=105; total time=   0.1s\n",
      "[CV] END criterion=entropy, max_depth=6, min_samples_split=8, n_estimators=105; total time=   0.1s\n",
      "[CV] END criterion=entropy, max_depth=6, min_samples_split=8, n_estimators=105; total time=   0.1s\n",
      "[CV] END criterion=entropy, max_depth=6, min_samples_split=8, n_estimators=105; total time=   0.1s\n",
      "[CV] END criterion=gini, max_depth=None, min_samples_split=10, n_estimators=326; total time=   0.5s\n",
      "[CV] END criterion=gini, max_depth=None, min_samples_split=10, n_estimators=326; total time=   0.5s\n",
      "[CV] END criterion=gini, max_depth=None, min_samples_split=10, n_estimators=326; total time=   0.6s\n",
      "[CV] END criterion=gini, max_depth=None, min_samples_split=10, n_estimators=326; total time=   0.5s\n",
      "[CV] END criterion=gini, max_depth=6, min_samples_split=8, n_estimators=402; total time=   0.3s\n",
      "[CV] END criterion=gini, max_depth=6, min_samples_split=8, n_estimators=402; total time=   0.3s\n",
      "[CV] END criterion=gini, max_depth=6, min_samples_split=8, n_estimators=402; total time=   0.3s\n",
      "[CV] END criterion=gini, max_depth=6, min_samples_split=8, n_estimators=402; total time=   0.3s\n",
      "[CV] END criterion=gini, max_depth=6, min_samples_split=8, n_estimators=402; total time=   0.3s\n",
      "[CV] END criterion=gini, max_depth=None, min_samples_split=10, n_estimators=326; total time=   0.6s\n",
      "[CV] END criterion=entropy, max_depth=None, min_samples_split=8, n_estimators=260; total time=   0.4s\n",
      "[CV] END criterion=gini, max_depth=4, min_samples_split=9, n_estimators=351; total time=   0.3s\n",
      "[CV] END criterion=entropy, max_depth=None, min_samples_split=8, n_estimators=260; total time=   0.4s\n",
      "[CV] END criterion=gini, max_depth=4, min_samples_split=9, n_estimators=351; total time=   0.3s\n",
      "[CV] END criterion=entropy, max_depth=None, min_samples_split=8, n_estimators=260; total time=   0.5s\n",
      "[CV] END criterion=gini, max_depth=4, min_samples_split=9, n_estimators=351; total time=   0.2s\n",
      "[CV] END criterion=gini, max_depth=4, min_samples_split=9, n_estimators=351; total time=   0.2s\n",
      "[CV] END criterion=entropy, max_depth=None, min_samples_split=8, n_estimators=260; total time=   0.4s\n",
      "[CV] END criterion=entropy, max_depth=None, min_samples_split=8, n_estimators=260; total time=   0.4s\n",
      "[CV] END criterion=gini, max_depth=4, min_samples_split=9, n_estimators=351; total time=   0.2s\n"
     ]
    },
    {
     "data": {
      "text/html": [
       "<style>#sk-container-id-5 {color: black;background-color: white;}#sk-container-id-5 pre{padding: 0;}#sk-container-id-5 div.sk-toggleable {background-color: white;}#sk-container-id-5 label.sk-toggleable__label {cursor: pointer;display: block;width: 100%;margin-bottom: 0;padding: 0.3em;box-sizing: border-box;text-align: center;}#sk-container-id-5 label.sk-toggleable__label-arrow:before {content: \"▸\";float: left;margin-right: 0.25em;color: #696969;}#sk-container-id-5 label.sk-toggleable__label-arrow:hover:before {color: black;}#sk-container-id-5 div.sk-estimator:hover label.sk-toggleable__label-arrow:before {color: black;}#sk-container-id-5 div.sk-toggleable__content {max-height: 0;max-width: 0;overflow: hidden;text-align: left;background-color: #f0f8ff;}#sk-container-id-5 div.sk-toggleable__content pre {margin: 0.2em;color: black;border-radius: 0.25em;background-color: #f0f8ff;}#sk-container-id-5 input.sk-toggleable__control:checked~div.sk-toggleable__content {max-height: 200px;max-width: 100%;overflow: auto;}#sk-container-id-5 input.sk-toggleable__control:checked~label.sk-toggleable__label-arrow:before {content: \"▾\";}#sk-container-id-5 div.sk-estimator input.sk-toggleable__control:checked~label.sk-toggleable__label {background-color: #d4ebff;}#sk-container-id-5 div.sk-label input.sk-toggleable__control:checked~label.sk-toggleable__label {background-color: #d4ebff;}#sk-container-id-5 input.sk-hidden--visually {border: 0;clip: rect(1px 1px 1px 1px);clip: rect(1px, 1px, 1px, 1px);height: 1px;margin: -1px;overflow: hidden;padding: 0;position: absolute;width: 1px;}#sk-container-id-5 div.sk-estimator {font-family: monospace;background-color: #f0f8ff;border: 1px dotted black;border-radius: 0.25em;box-sizing: border-box;margin-bottom: 0.5em;}#sk-container-id-5 div.sk-estimator:hover {background-color: #d4ebff;}#sk-container-id-5 div.sk-parallel-item::after {content: \"\";width: 100%;border-bottom: 1px solid gray;flex-grow: 1;}#sk-container-id-5 div.sk-label:hover label.sk-toggleable__label {background-color: #d4ebff;}#sk-container-id-5 div.sk-serial::before {content: \"\";position: absolute;border-left: 1px solid gray;box-sizing: border-box;top: 0;bottom: 0;left: 50%;z-index: 0;}#sk-container-id-5 div.sk-serial {display: flex;flex-direction: column;align-items: center;background-color: white;padding-right: 0.2em;padding-left: 0.2em;position: relative;}#sk-container-id-5 div.sk-item {position: relative;z-index: 1;}#sk-container-id-5 div.sk-parallel {display: flex;align-items: stretch;justify-content: center;background-color: white;position: relative;}#sk-container-id-5 div.sk-item::before, #sk-container-id-5 div.sk-parallel-item::before {content: \"\";position: absolute;border-left: 1px solid gray;box-sizing: border-box;top: 0;bottom: 0;left: 50%;z-index: -1;}#sk-container-id-5 div.sk-parallel-item {display: flex;flex-direction: column;z-index: 1;position: relative;background-color: white;}#sk-container-id-5 div.sk-parallel-item:first-child::after {align-self: flex-end;width: 50%;}#sk-container-id-5 div.sk-parallel-item:last-child::after {align-self: flex-start;width: 50%;}#sk-container-id-5 div.sk-parallel-item:only-child::after {width: 0;}#sk-container-id-5 div.sk-dashed-wrapped {border: 1px dashed gray;margin: 0 0.4em 0.5em 0.4em;box-sizing: border-box;padding-bottom: 0.4em;background-color: white;}#sk-container-id-5 div.sk-label label {font-family: monospace;font-weight: bold;display: inline-block;line-height: 1.2em;}#sk-container-id-5 div.sk-label-container {text-align: center;}#sk-container-id-5 div.sk-container {/* jupyter's `normalize.less` sets `[hidden] { display: none; }` but bootstrap.min.css set `[hidden] { display: none !important; }` so we also need the `!important` here to be able to override the default hidden behavior on the sphinx rendered scikit-learn.org. See: https://github.com/scikit-learn/scikit-learn/issues/21755 */display: inline-block !important;position: relative;}#sk-container-id-5 div.sk-text-repr-fallback {display: none;}</style><div id=\"sk-container-id-5\" class=\"sk-top-container\"><div class=\"sk-text-repr-fallback\"><pre>RandomizedSearchCV(cv=5, estimator=RandomForestClassifier(random_state=13),\n",
       "                   n_iter=100, n_jobs=9,\n",
       "                   param_distributions={&#x27;criterion&#x27;: [&#x27;gini&#x27;, &#x27;entropy&#x27;],\n",
       "                                        &#x27;max_depth&#x27;: [None, 2, 3, 4, 5, 6, 7,\n",
       "                                                      8],\n",
       "                                        &#x27;min_samples_split&#x27;: &lt;scipy.stats._distn_infrastructure.rv_discrete_frozen object at 0x29e5c5cd0&gt;,\n",
       "                                        &#x27;n_estimators&#x27;: &lt;scipy.stats._distn_infrastructure.rv_discrete_frozen object at 0x2f37d6130&gt;},\n",
       "                   verbose=2)</pre><b>In a Jupyter environment, please rerun this cell to show the HTML representation or trust the notebook. <br />On GitHub, the HTML representation is unable to render, please try loading this page with nbviewer.org.</b></div><div class=\"sk-container\" hidden><div class=\"sk-item sk-dashed-wrapped\"><div class=\"sk-label-container\"><div class=\"sk-label sk-toggleable\"><input class=\"sk-toggleable__control sk-hidden--visually\" id=\"sk-estimator-id-13\" type=\"checkbox\" ><label for=\"sk-estimator-id-13\" class=\"sk-toggleable__label sk-toggleable__label-arrow\">RandomizedSearchCV</label><div class=\"sk-toggleable__content\"><pre>RandomizedSearchCV(cv=5, estimator=RandomForestClassifier(random_state=13),\n",
       "                   n_iter=100, n_jobs=9,\n",
       "                   param_distributions={&#x27;criterion&#x27;: [&#x27;gini&#x27;, &#x27;entropy&#x27;],\n",
       "                                        &#x27;max_depth&#x27;: [None, 2, 3, 4, 5, 6, 7,\n",
       "                                                      8],\n",
       "                                        &#x27;min_samples_split&#x27;: &lt;scipy.stats._distn_infrastructure.rv_discrete_frozen object at 0x29e5c5cd0&gt;,\n",
       "                                        &#x27;n_estimators&#x27;: &lt;scipy.stats._distn_infrastructure.rv_discrete_frozen object at 0x2f37d6130&gt;},\n",
       "                   verbose=2)</pre></div></div></div><div class=\"sk-parallel\"><div class=\"sk-parallel-item\"><div class=\"sk-item\"><div class=\"sk-label-container\"><div class=\"sk-label sk-toggleable\"><input class=\"sk-toggleable__control sk-hidden--visually\" id=\"sk-estimator-id-14\" type=\"checkbox\" ><label for=\"sk-estimator-id-14\" class=\"sk-toggleable__label sk-toggleable__label-arrow\">estimator: RandomForestClassifier</label><div class=\"sk-toggleable__content\"><pre>RandomForestClassifier(random_state=13)</pre></div></div></div><div class=\"sk-serial\"><div class=\"sk-item\"><div class=\"sk-estimator sk-toggleable\"><input class=\"sk-toggleable__control sk-hidden--visually\" id=\"sk-estimator-id-15\" type=\"checkbox\" ><label for=\"sk-estimator-id-15\" class=\"sk-toggleable__label sk-toggleable__label-arrow\">RandomForestClassifier</label><div class=\"sk-toggleable__content\"><pre>RandomForestClassifier(random_state=13)</pre></div></div></div></div></div></div></div></div></div></div>"
      ],
      "text/plain": [
       "RandomizedSearchCV(cv=5, estimator=RandomForestClassifier(random_state=13),\n",
       "                   n_iter=100, n_jobs=9,\n",
       "                   param_distributions={'criterion': ['gini', 'entropy'],\n",
       "                                        'max_depth': [None, 2, 3, 4, 5, 6, 7,\n",
       "                                                      8],\n",
       "                                        'min_samples_split': <scipy.stats._distn_infrastructure.rv_discrete_frozen object at 0x29e5c5cd0>,\n",
       "                                        'n_estimators': <scipy.stats._distn_infrastructure.rv_discrete_frozen object at 0x2f37d6130>},\n",
       "                   verbose=2)"
      ]
     },
     "execution_count": 172,
     "metadata": {},
     "output_type": "execute_result"
    }
   ],
   "source": [
    "rf = RandomForestClassifier(\n",
    "    random_state=13\n",
    ")\n",
    "\n",
    "param_dist = {\n",
    "    'criterion':['gini','entropy'], \n",
    "    'n_estimators': sp_randInt(100, 500),\n",
    "    'max_depth':[None, 2, 3, 4, 5, 6, 7, 8], \n",
    "    'min_samples_split':sp_randInt(8, 11)\n",
    "    }\n",
    "\n",
    "random_search = RandomizedSearchCV(\n",
    "    estimator=rf, param_distributions = param_dist,\n",
    "    cv = 5, n_iter = 100, n_jobs=num_cpu, \n",
    "    verbose=2)\n",
    "random_search\n",
    "random_search.fit(X_train.values, y_train)"
   ]
  },
  {
   "cell_type": "code",
   "execution_count": 176,
   "metadata": {},
   "outputs": [
    {
     "name": "stdout",
     "output_type": "stream",
     "text": [
      "Model pred time: 0.029878616333007812\n",
      "accuracy=0.7572815533980582\n",
      "f1=0.7588586193717909\n",
      "auc_ovo=0.9208550259837858\n",
      "auc_ovr=0.9212907151355918\n",
      "              precision    recall  f1-score   support\n",
      "\n",
      "         대화형      0.831     0.942     0.883        52\n",
      "         사실형      0.617     0.725     0.667        51\n",
      "         예측형      0.911     0.788     0.845        52\n",
      "         추론형      0.690     0.569     0.624        51\n",
      "\n",
      "    accuracy                          0.757       206\n",
      "   macro avg      0.762     0.756     0.755       206\n",
      "weighted avg      0.763     0.757     0.756       206\n",
      "\n"
     ]
    }
   ],
   "source": [
    "best_rf = random_search.best_estimator_\n",
    "pred_rf, prob_rf = model_eval(best_rf, X_valid.values, y_valid, randomCV=True)"
   ]
  },
  {
   "cell_type": "code",
   "execution_count": 177,
   "metadata": {},
   "outputs": [
    {
     "data": {
      "text/plain": [
       "['final_model.joblib']"
      ]
     },
     "execution_count": 177,
     "metadata": {},
     "output_type": "execute_result"
    }
   ],
   "source": [
    "dump(random_search.best_estimator_, 'final_model.joblib')"
   ]
  },
  {
   "cell_type": "code",
   "execution_count": 167,
   "metadata": {},
   "outputs": [
    {
     "name": "stdout",
     "output_type": "stream",
     "text": [
      "Model pred time: 0.05042695999145508\n",
      "accuracy=0.7524271844660194\n",
      "f1=0.7525848061361602\n",
      "auc_ovo=0.9201494461051621\n",
      "auc_ovr=0.9205791915232143\n",
      "              precision    recall  f1-score   support\n",
      "\n",
      "         대화형      0.839     0.904     0.870        52\n",
      "         사실형      0.617     0.725     0.667        51\n",
      "         예측형      0.913     0.808     0.857        52\n",
      "         추론형      0.659     0.569     0.611        51\n",
      "\n",
      "    accuracy                          0.752       206\n",
      "   macro avg      0.757     0.751     0.751       206\n",
      "weighted avg      0.758     0.752     0.752       206\n",
      "\n"
     ]
    },
    {
     "data": {
      "text/plain": [
       "(array(['추론형', '사실형', '추론형', '대화형', '대화형', '예측형', '대화형', '사실형', '추론형',\n",
       "        '대화형', '대화형', '대화형', '예측형', '사실형', '예측형', '추론형', '대화형', '예측형',\n",
       "        '대화형', '사실형', '예측형', '사실형', '대화형', '예측형', '대화형', '예측형', '사실형',\n",
       "        '대화형', '예측형', '예측형', '예측형', '예측형', '추론형', '사실형', '사실형', '사실형',\n",
       "        '사실형', '예측형', '추론형', '예측형', '예측형', '추론형', '추론형', '사실형', '추론형',\n",
       "        '사실형', '사실형', '사실형', '추론형', '대화형', '추론형', '추론형', '사실형', '대화형',\n",
       "        '대화형', '사실형', '예측형', '대화형', '대화형', '대화형', '사실형', '추론형', '대화형',\n",
       "        '사실형', '사실형', '사실형', '추론형', '대화형', '추론형', '예측형', '예측형', '사실형',\n",
       "        '예측형', '대화형', '추론형', '예측형', '대화형', '예측형', '사실형', '대화형', '예측형',\n",
       "        '사실형', '예측형', '대화형', '추론형', '추론형', '사실형', '대화형', '사실형', '사실형',\n",
       "        '예측형', '대화형', '사실형', '추론형', '대화형', '예측형', '예측형', '사실형', '대화형',\n",
       "        '추론형', '예측형', '추론형', '추론형', '대화형', '사실형', '사실형', '사실형', '추론형',\n",
       "        '사실형', '대화형', '추론형', '추론형', '사실형', '사실형', '사실형', '사실형', '예측형',\n",
       "        '예측형', '예측형', '대화형', '예측형', '사실형', '대화형', '대화형', '추론형', '대화형',\n",
       "        '추론형', '대화형', '추론형', '예측형', '추론형', '대화형', '추론형', '사실형', '추론형',\n",
       "        '사실형', '대화형', '예측형', '사실형', '예측형', '사실형', '대화형', '예측형', '사실형',\n",
       "        '예측형', '대화형', '추론형', '대화형', '대화형', '대화형', '추론형', '사실형', '사실형',\n",
       "        '예측형', '예측형', '사실형', '대화형', '사실형', '대화형', '사실형', '사실형', '대화형',\n",
       "        '추론형', '사실형', '대화형', '추론형', '사실형', '예측형', '사실형', '예측형', '사실형',\n",
       "        '추론형', '대화형', '추론형', '추론형', '대화형', '대화형', '사실형', '사실형', '예측형',\n",
       "        '대화형', '예측형', '대화형', '예측형', '예측형', '사실형', '예측형', '대화형', '대화형',\n",
       "        '사실형', '사실형', '추론형', '대화형', '사실형', '대화형', '대화형', '추론형', '예측형',\n",
       "        '추론형', '추론형', '대화형', '사실형', '추론형', '추론형', '사실형', '예측형'],\n",
       "       dtype=object),\n",
       " array([[7.92723741e-02, 9.05640386e-02, 6.34725640e-02, 7.66691023e-01],\n",
       "        [1.10102325e-01, 5.08553874e-01, 8.20781721e-02, 2.99265630e-01],\n",
       "        [4.19162633e-02, 2.28335250e-01, 1.21842425e-01, 6.07906062e-01],\n",
       "        [6.00815131e-01, 5.96418723e-02, 1.37710082e-01, 2.01832915e-01],\n",
       "        [6.18374640e-01, 1.81131740e-01, 4.70116436e-02, 1.53481976e-01],\n",
       "        [3.34694397e-02, 3.34341267e-02, 9.14418669e-01, 1.86777644e-02],\n",
       "        [9.31886399e-01, 3.68464983e-02, 2.27842333e-04, 3.10392601e-02],\n",
       "        [2.99823770e-02, 5.48053359e-01, 3.98309441e-01, 2.36548226e-02],\n",
       "        [2.04159051e-02, 4.10434625e-01, 2.99081036e-02, 5.39241367e-01],\n",
       "        [8.46234004e-01, 8.97752599e-02, 1.72130188e-02, 4.67777175e-02],\n",
       "        [4.36107843e-01, 1.44813023e-01, 1.00716980e-01, 3.18362154e-01],\n",
       "        [5.37555188e-01, 8.57650769e-02, 2.80468070e-02, 3.48632928e-01],\n",
       "        [7.54007385e-02, 1.01429512e-01, 7.64511462e-01, 5.86582879e-02],\n",
       "        [3.01323502e-02, 7.01824944e-01, 1.00305951e-01, 1.67736755e-01],\n",
       "        [8.50156527e-03, 9.35427017e-02, 8.61405027e-01, 3.65507062e-02],\n",
       "        [9.94017956e-02, 2.04231689e-01, 7.18809351e-02, 6.24485581e-01],\n",
       "        [7.19577610e-01, 7.06962524e-02, 4.34979251e-03, 2.05376345e-01],\n",
       "        [3.81562882e-03, 1.93687439e-02, 9.43653318e-01, 3.31623090e-02],\n",
       "        [5.88266550e-01, 1.23707443e-01, 4.32102289e-02, 2.44815778e-01],\n",
       "        [4.88433669e-02, 4.28046254e-01, 2.94801578e-01, 2.28308801e-01],\n",
       "        [2.32311548e-03, 3.26138217e-01, 6.02618472e-01, 6.89201959e-02],\n",
       "        [1.01986918e-01, 4.65528180e-01, 6.37528728e-02, 3.68732028e-01],\n",
       "        [7.80795878e-01, 8.56808396e-02, 3.82076500e-02, 9.53156319e-02],\n",
       "        [3.72226951e-02, 1.10743668e-01, 7.20724628e-01, 1.31309008e-01],\n",
       "        [5.48361529e-01, 5.17743972e-02, 1.26581891e-01, 2.73282183e-01],\n",
       "        [2.90282845e-02, 2.33885193e-02, 9.06183213e-01, 4.13999830e-02],\n",
       "        [2.93000881e-02, 6.73025955e-01, 1.79711908e-01, 1.17962049e-01],\n",
       "        [7.43732331e-01, 3.10040429e-02, 2.08872581e-02, 2.04376368e-01],\n",
       "        [4.03704528e-02, 4.42427585e-01, 4.77488923e-01, 3.97130391e-02],\n",
       "        [3.63546228e-03, 2.43807185e-01, 6.73432553e-01, 7.91247991e-02],\n",
       "        [6.65280785e-02, 6.55415233e-02, 8.18484804e-01, 4.94455941e-02],\n",
       "        [1.42455706e-03, 3.58995459e-02, 9.06833501e-01, 5.58423957e-02],\n",
       "        [4.83539539e-02, 8.04341995e-02, 4.56158583e-02, 8.25595988e-01],\n",
       "        [2.25978769e-02, 5.46111544e-01, 4.44527208e-02, 3.86837859e-01],\n",
       "        [2.10943029e-01, 3.66010210e-01, 2.11695129e-01, 2.11351632e-01],\n",
       "        [3.10149055e-02, 7.81649851e-01, 1.04638968e-01, 8.26962753e-02],\n",
       "        [4.50517163e-02, 6.09945021e-01, 1.41580680e-01, 2.03422583e-01],\n",
       "        [7.33889830e-02, 5.06432164e-02, 7.84486985e-01, 9.14808155e-02],\n",
       "        [1.32515900e-01, 2.16695642e-01, 4.15154112e-02, 6.09273047e-01],\n",
       "        [8.51187242e-03, 4.92794034e-02, 8.95411689e-01, 4.67970348e-02],\n",
       "        [3.64729892e-02, 2.78909190e-01, 5.53951929e-01, 1.30665892e-01],\n",
       "        [5.77967862e-02, 4.43682659e-01, 5.31223371e-02, 4.45398217e-01],\n",
       "        [4.80465615e-02, 3.94517115e-01, 7.47043816e-02, 4.82731942e-01],\n",
       "        [6.36988397e-02, 6.26275225e-01, 6.35600928e-02, 2.46465842e-01],\n",
       "        [3.39553523e-02, 3.77319074e-01, 2.59337050e-02, 5.62791868e-01],\n",
       "        [2.96660948e-02, 6.20064243e-01, 7.79698865e-02, 2.72299776e-01],\n",
       "        [4.03968118e-02, 4.75706674e-01, 8.09325491e-02, 4.02963965e-01],\n",
       "        [1.33621796e-02, 4.86402763e-01, 3.09390919e-01, 1.90844139e-01],\n",
       "        [8.47308271e-02, 3.98350418e-01, 1.82644110e-02, 4.98654344e-01],\n",
       "        [4.71188481e-01, 1.28585893e-01, 6.46181930e-02, 3.35607433e-01],\n",
       "        [1.81617234e-02, 1.49375153e-01, 2.09387265e-01, 6.23075859e-01],\n",
       "        [3.32160075e-02, 3.41376154e-01, 5.85050427e-02, 5.66902796e-01],\n",
       "        [4.33579787e-02, 8.01714044e-01, 9.00275859e-02, 6.49003913e-02],\n",
       "        [9.48183294e-01, 4.55603294e-03, 0.00000000e+00, 4.72606730e-02],\n",
       "        [7.16689085e-01, 1.13623333e-01, 3.89382279e-02, 1.30749354e-01],\n",
       "        [7.53641514e-02, 6.66121239e-01, 7.64227026e-02, 1.82091908e-01],\n",
       "        [1.12631076e-02, 8.69960572e-02, 8.19943912e-01, 8.17969234e-02],\n",
       "        [3.92812834e-01, 1.62292044e-01, 2.90985690e-01, 1.53909432e-01],\n",
       "        [8.16719846e-01, 3.80953216e-02, 1.08747599e-01, 3.64372326e-02],\n",
       "        [5.97932400e-01, 8.82509395e-02, 1.15353670e-01, 1.98462991e-01],\n",
       "        [4.03675342e-02, 5.34187255e-01, 3.06444601e-01, 1.19000610e-01],\n",
       "        [9.85131410e-02, 1.33673608e-01, 7.11569466e-02, 6.96656304e-01],\n",
       "        [4.95786747e-01, 2.94862649e-01, 4.79485936e-02, 1.61402010e-01],\n",
       "        [2.03276951e-02, 5.31776712e-01, 4.02009131e-01, 4.58864618e-02],\n",
       "        [7.16306827e-02, 4.18215552e-01, 2.44187708e-01, 2.65966057e-01],\n",
       "        [1.14614165e-01, 3.93569290e-01, 2.06721744e-01, 2.85094801e-01],\n",
       "        [4.64697047e-02, 3.23607113e-01, 7.10903169e-02, 5.58832865e-01],\n",
       "        [6.85441916e-01, 8.24488310e-02, 1.14656446e-01, 1.17452807e-01],\n",
       "        [6.33580183e-02, 1.98468457e-01, 2.25610251e-01, 5.12563274e-01],\n",
       "        [2.66971204e-02, 2.89696460e-01, 6.03682309e-01, 7.99241113e-02],\n",
       "        [1.51120491e-01, 1.77835015e-01, 4.14428160e-01, 2.56616334e-01],\n",
       "        [6.67960451e-02, 5.01916877e-01, 5.47371314e-02, 3.76549946e-01],\n",
       "        [1.39694818e-02, 1.31928411e-01, 7.86134301e-01, 6.79678065e-02],\n",
       "        [7.24462436e-01, 7.87042587e-02, 4.48622897e-02, 1.51971016e-01],\n",
       "        [3.01362127e-02, 3.25789982e-01, 2.08950499e-01, 4.35123306e-01],\n",
       "        [1.60561832e-03, 2.11450343e-03, 9.67942729e-01, 2.83371495e-02],\n",
       "        [9.33661558e-01, 2.64213369e-02, 1.77097522e-02, 2.22073527e-02],\n",
       "        [1.85105358e-01, 1.06847991e-01, 6.10647008e-01, 9.73996422e-02],\n",
       "        [4.55346489e-02, 6.53164657e-01, 2.48648408e-02, 2.76435853e-01],\n",
       "        [6.85840104e-01, 1.06417272e-01, 1.84091699e-01, 2.36509244e-02],\n",
       "        [1.35045179e-02, 8.90412581e-02, 8.32267600e-01, 6.51866245e-02],\n",
       "        [1.37671785e-01, 5.34203162e-01, 6.04121723e-02, 2.67712881e-01],\n",
       "        [2.71679583e-02, 5.76330655e-02, 8.25349327e-01, 8.98496496e-02],\n",
       "        [6.97620771e-01, 1.21076220e-01, 6.02422521e-02, 1.21060758e-01],\n",
       "        [2.13177601e-02, 3.59528946e-01, 6.90451619e-04, 6.18462842e-01],\n",
       "        [4.62700349e-02, 3.26107470e-01, 2.68992534e-01, 3.58629961e-01],\n",
       "        [8.03094045e-02, 6.69260352e-01, 6.19634821e-02, 1.88466761e-01],\n",
       "        [8.69140672e-01, 5.37521904e-02, 3.87874448e-04, 7.67192631e-02],\n",
       "        [1.69295269e-02, 5.86002993e-01, 5.93331550e-02, 3.37734325e-01],\n",
       "        [4.85872071e-02, 6.31749424e-01, 2.61114929e-02, 2.93551876e-01],\n",
       "        [1.31161236e-02, 1.58352230e-02, 9.47792252e-01, 2.32564011e-02],\n",
       "        [8.79827481e-01, 3.76220008e-02, 5.24525600e-03, 7.73052621e-02],\n",
       "        [9.59374620e-02, 5.79963185e-01, 1.48525376e-01, 1.75573977e-01],\n",
       "        [4.27411213e-01, 3.18324394e-02, 8.83324834e-02, 4.52423864e-01],\n",
       "        [7.17433746e-01, 7.20690591e-02, 1.61413423e-02, 1.94355853e-01],\n",
       "        [1.53245606e-02, 3.19584203e-01, 3.74125098e-01, 2.90966138e-01],\n",
       "        [1.27757748e-01, 1.76815515e-01, 5.52582064e-01, 1.42844674e-01],\n",
       "        [1.03620934e-02, 7.44812369e-01, 2.12411370e-02, 2.23584401e-01],\n",
       "        [4.45922513e-01, 1.72380352e-01, 9.09279745e-02, 2.90769160e-01],\n",
       "        [4.18094412e-02, 3.06028348e-01, 3.61745222e-02, 6.15987689e-01],\n",
       "        [8.64376524e-02, 5.71484603e-02, 8.19949916e-01, 3.64639711e-02],\n",
       "        [3.75567167e-01, 6.03952088e-02, 1.01426600e-01, 4.62611025e-01],\n",
       "        [2.83696045e-02, 8.05541806e-02, 3.28667941e-02, 8.58209421e-01],\n",
       "        [4.88166340e-01, 2.63526130e-01, 7.90080614e-02, 1.69299468e-01],\n",
       "        [6.14697424e-02, 6.90229885e-01, 1.45524301e-01, 1.02776072e-01],\n",
       "        [2.47875495e-01, 2.98691871e-01, 1.68123459e-01, 2.85309175e-01],\n",
       "        [2.53414230e-01, 4.94183283e-01, 1.27084572e-02, 2.39694030e-01],\n",
       "        [4.44898867e-02, 3.34016869e-01, 7.68040439e-02, 5.44689201e-01],\n",
       "        [6.85375384e-02, 5.86269856e-01, 1.93100429e-01, 1.52092176e-01],\n",
       "        [9.42571331e-01, 3.84181782e-02, 9.12652510e-03, 9.88396524e-03],\n",
       "        [2.17744359e-02, 8.44245013e-02, 3.09119612e-02, 8.62889102e-01],\n",
       "        [2.86007290e-01, 1.02791546e-01, 3.59247768e-02, 5.75276387e-01],\n",
       "        [2.68191079e-01, 2.81716412e-01, 1.83857731e-01, 2.66234778e-01],\n",
       "        [4.60797782e-02, 5.77618949e-01, 9.01143562e-02, 2.86186916e-01],\n",
       "        [1.71819179e-01, 4.29382678e-01, 5.63030216e-02, 3.42495121e-01],\n",
       "        [8.28758703e-02, 6.65757189e-01, 4.57422923e-02, 2.05624649e-01],\n",
       "        [3.59262445e-01, 1.06531147e-01, 3.71680047e-01, 1.62526361e-01],\n",
       "        [2.16438463e-02, 1.00927329e-01, 8.61706876e-01, 1.57219486e-02],\n",
       "        [4.39003839e-02, 2.93164240e-01, 5.62007760e-01, 1.00927616e-01],\n",
       "        [4.31689121e-01, 2.08001936e-01, 9.25444181e-02, 2.67764525e-01],\n",
       "        [9.83160532e-03, 4.41820015e-02, 9.09607275e-01, 3.63791180e-02],\n",
       "        [3.33369122e-02, 5.92760163e-01, 1.41191047e-01, 2.32711878e-01],\n",
       "        [5.31720140e-01, 2.14879555e-01, 5.91772559e-02, 1.94223049e-01],\n",
       "        [7.30200847e-01, 1.84726942e-01, 1.94216320e-02, 6.56505792e-02],\n",
       "        [3.86875864e-02, 2.41611283e-01, 7.58293850e-03, 7.12118192e-01],\n",
       "        [6.63914545e-01, 8.02432162e-02, 6.53144659e-02, 1.90527772e-01],\n",
       "        [9.27193021e-02, 1.76436506e-01, 8.12872585e-02, 6.49556933e-01],\n",
       "        [6.57303884e-01, 1.51821780e-01, 6.08015627e-02, 1.30072773e-01],\n",
       "        [4.02817247e-02, 1.08869828e-01, 1.75637969e-02, 8.33284650e-01],\n",
       "        [1.09049532e-02, 4.79520840e-02, 8.85473758e-01, 5.56692052e-02],\n",
       "        [2.53623125e-01, 2.03089229e-01, 1.89357979e-01, 3.53929667e-01],\n",
       "        [7.17456280e-01, 6.42927665e-02, 6.98044958e-02, 1.48446458e-01],\n",
       "        [2.74881301e-02, 3.93765199e-01, 5.88674230e-02, 5.19879248e-01],\n",
       "        [2.31544953e-01, 3.59406470e-01, 1.29190944e-01, 2.79857633e-01],\n",
       "        [8.78321966e-02, 2.90690258e-01, 1.93904884e-01, 4.27572662e-01],\n",
       "        [1.48639438e-02, 6.26426924e-01, 6.76210262e-02, 2.91088106e-01],\n",
       "        [3.09112413e-01, 2.70828709e-01, 1.52874965e-01, 2.67183913e-01],\n",
       "        [2.21483578e-02, 7.02157306e-02, 8.39089135e-01, 6.85467768e-02],\n",
       "        [2.12065780e-01, 4.50254676e-01, 1.28384987e-01, 2.09294557e-01],\n",
       "        [3.02780066e-02, 3.03312990e-01, 5.81963064e-01, 8.44459391e-02],\n",
       "        [1.04842900e-01, 5.88147973e-01, 3.29006436e-02, 2.74108483e-01],\n",
       "        [4.25389543e-01, 1.15503167e-01, 2.10820070e-01, 2.48287220e-01],\n",
       "        [2.31419374e-02, 6.17962030e-02, 8.94896520e-01, 2.01653401e-02],\n",
       "        [1.82110256e-01, 4.39185353e-01, 3.24884209e-01, 5.38201819e-02],\n",
       "        [1.13120002e-01, 2.83520166e-01, 3.39568637e-01, 2.63791196e-01],\n",
       "        [5.68083280e-01, 2.25651657e-01, 1.02758075e-02, 1.95989255e-01],\n",
       "        [1.10819877e-01, 2.93887372e-01, 3.47345172e-02, 5.60558234e-01],\n",
       "        [9.12058920e-01, 2.98645271e-02, 2.38076251e-02, 3.42689276e-02],\n",
       "        [5.84848251e-01, 1.97879036e-01, 6.65981063e-02, 1.50674606e-01],\n",
       "        [3.12905185e-01, 2.29386916e-01, 1.66045042e-01, 2.91662858e-01],\n",
       "        [2.01534202e-01, 1.56087099e-01, 1.72845599e-01, 4.69533100e-01],\n",
       "        [1.36086782e-02, 8.68206746e-01, 2.45066235e-02, 9.36779527e-02],\n",
       "        [9.51895437e-02, 5.90632683e-01, 7.84174574e-02, 2.35760316e-01],\n",
       "        [2.05333244e-02, 4.78017407e-02, 8.55782776e-01, 7.58821584e-02],\n",
       "        [1.08805496e-02, 6.55737887e-02, 9.09104307e-01, 1.44413550e-02],\n",
       "        [4.60781776e-02, 4.64290712e-01, 6.01934376e-02, 4.29437673e-01],\n",
       "        [8.82224415e-01, 3.06676705e-02, 2.83958343e-02, 5.87120805e-02],\n",
       "        [5.35560652e-02, 7.07893657e-01, 2.30790513e-02, 2.15471227e-01],\n",
       "        [4.27363075e-01, 2.06067253e-01, 4.31409349e-02, 3.23428738e-01],\n",
       "        [2.43764172e-02, 6.75927792e-01, 9.98389177e-02, 1.99856873e-01],\n",
       "        [2.30628370e-02, 5.72621259e-01, 3.09406156e-01, 9.49097477e-02],\n",
       "        [8.13403023e-01, 2.00794774e-02, 3.96993310e-02, 1.26818169e-01],\n",
       "        [5.29096426e-02, 1.75972124e-01, 7.11548845e-02, 6.99963349e-01],\n",
       "        [7.70758005e-02, 5.90702950e-01, 1.79055345e-01, 1.53165905e-01],\n",
       "        [9.43004931e-01, 1.18431902e-02, 0.00000000e+00, 4.51518789e-02],\n",
       "        [2.08151811e-02, 1.56176050e-01, 1.13913089e-01, 7.09095680e-01],\n",
       "        [5.96094521e-02, 6.56183203e-01, 1.19441316e-01, 1.64766029e-01],\n",
       "        [2.76762445e-02, 4.44628320e-02, 9.09024475e-01, 1.88364482e-02],\n",
       "        [2.63914031e-02, 8.57307276e-01, 7.32722013e-02, 4.30291200e-02],\n",
       "        [2.49203734e-02, 6.93857173e-02, 8.42941680e-01, 6.27522297e-02],\n",
       "        [6.31022570e-02, 5.29299292e-01, 5.13244782e-02, 3.56273972e-01],\n",
       "        [2.97595585e-02, 4.09677204e-01, 8.51443481e-02, 4.75418889e-01],\n",
       "        [6.73733062e-01, 1.06486649e-01, 5.53252790e-03, 2.14247761e-01],\n",
       "        [5.59454048e-02, 2.03132226e-01, 1.31949374e-01, 6.08972996e-01],\n",
       "        [2.10517285e-02, 2.84593547e-01, 2.95259252e-03, 6.91402132e-01],\n",
       "        [8.94653402e-01, 2.59067972e-02, 2.08145601e-02, 5.86252403e-02],\n",
       "        [8.53246908e-01, 9.36799142e-02, 9.97450262e-03, 4.30986755e-02],\n",
       "        [2.80894172e-01, 4.36166215e-01, 3.80914422e-02, 2.44848170e-01],\n",
       "        [8.11390753e-02, 5.20485423e-01, 1.74137776e-01, 2.24237725e-01],\n",
       "        [2.19640424e-02, 2.71319311e-01, 5.80765496e-01, 1.25951150e-01],\n",
       "        [8.58758451e-01, 2.59170654e-02, 9.04966448e-02, 2.48278385e-02],\n",
       "        [2.34940453e-01, 5.66837785e-02, 3.98757986e-01, 3.09617783e-01],\n",
       "        [7.49201844e-01, 3.05986029e-02, 2.64368985e-02, 1.93762655e-01],\n",
       "        [4.81596147e-04, 1.49610136e-02, 9.49849346e-01, 3.47080447e-02],\n",
       "        [3.11642741e-02, 7.71546612e-02, 8.66097826e-01, 2.55832390e-02],\n",
       "        [1.81311867e-01, 5.08506524e-01, 3.75757570e-02, 2.72605852e-01],\n",
       "        [1.30722914e-02, 1.82768798e-01, 7.44181420e-01, 5.99774912e-02],\n",
       "        [9.33357352e-01, 2.62762734e-02, 8.89537101e-03, 3.14710035e-02],\n",
       "        [5.94882447e-01, 4.04350073e-02, 4.47764433e-03, 3.60204901e-01],\n",
       "        [5.76196160e-02, 5.82084407e-01, 1.04577865e-01, 2.55718112e-01],\n",
       "        [2.44983692e-01, 2.90600580e-01, 2.05783329e-01, 2.58632400e-01],\n",
       "        [4.10892560e-02, 3.99183052e-01, 6.65699576e-02, 4.93157734e-01],\n",
       "        [5.73115697e-01, 2.97754056e-01, 2.55929853e-02, 1.03537261e-01],\n",
       "        [1.10427048e-02, 6.09578876e-01, 3.66914393e-02, 3.42686980e-01],\n",
       "        [7.82146551e-01, 5.05675944e-02, 5.58782577e-02, 1.11407596e-01],\n",
       "        [6.36968307e-01, 7.84240578e-02, 1.17480250e-01, 1.67127385e-01],\n",
       "        [2.40586978e-02, 2.57774857e-01, 1.31531863e-02, 7.05013259e-01],\n",
       "        [1.35350030e-02, 3.83832542e-02, 9.01121078e-01, 4.69606646e-02],\n",
       "        [1.12713590e-01, 2.44985460e-01, 1.72105067e-01, 4.70195883e-01],\n",
       "        [5.57542190e-02, 8.11019987e-02, 9.16968262e-02, 7.71446956e-01],\n",
       "        [5.89701794e-01, 8.44723241e-02, 3.32932175e-02, 2.92532664e-01],\n",
       "        [1.85560958e-01, 3.52361949e-01, 1.18140471e-01, 3.43936622e-01],\n",
       "        [8.58447284e-02, 3.50339657e-01, 1.52047126e-01, 4.11768489e-01],\n",
       "        [8.09532644e-02, 3.07511891e-01, 9.30729401e-02, 5.18461904e-01],\n",
       "        [4.28842412e-02, 6.27304777e-01, 5.89946499e-02, 2.70816332e-01],\n",
       "        [6.64767931e-03, 2.00307973e-02, 9.46425650e-01, 2.68958735e-02]]))"
      ]
     },
     "execution_count": 167,
     "metadata": {},
     "output_type": "execute_result"
    }
   ],
   "source": [
    "fin_model = load('final_model.joblib')\n",
    "model_eval(fin_model, X_valid, y_valid, randomCV=True)"
   ]
  },
  {
   "cell_type": "code",
   "execution_count": 171,
   "metadata": {},
   "outputs": [
    {
     "data": {
      "text/html": [
       "<div>\n",
       "<style scoped>\n",
       "    .dataframe tbody tr th:only-of-type {\n",
       "        vertical-align: middle;\n",
       "    }\n",
       "\n",
       "    .dataframe tbody tr th {\n",
       "        vertical-align: top;\n",
       "    }\n",
       "\n",
       "    .dataframe thead th {\n",
       "        text-align: right;\n",
       "    }\n",
       "</style>\n",
       "<table border=\"1\" class=\"dataframe\">\n",
       "  <thead>\n",
       "    <tr style=\"text-align: right;\">\n",
       "      <th></th>\n",
       "      <th>?</th>\n",
       "      <th>가격</th>\n",
       "      <th>가끔</th>\n",
       "      <th>가능</th>\n",
       "      <th>가능 성</th>\n",
       "      <th>가능 하</th>\n",
       "      <th>가량</th>\n",
       "      <th>가상</th>\n",
       "      <th>가장</th>\n",
       "      <th>가지</th>\n",
       "      <th>...</th>\n",
       "      <th>화폐</th>\n",
       "      <th>확대</th>\n",
       "      <th>확보</th>\n",
       "      <th>확산</th>\n",
       "      <th>환경</th>\n",
       "      <th>활용</th>\n",
       "      <th>회사</th>\n",
       "      <th>회장</th>\n",
       "      <th>효과</th>\n",
       "      <th>후</th>\n",
       "    </tr>\n",
       "  </thead>\n",
       "  <tbody>\n",
       "    <tr>\n",
       "      <th>0</th>\n",
       "      <td>0.0</td>\n",
       "      <td>0.0</td>\n",
       "      <td>0.0</td>\n",
       "      <td>0.0</td>\n",
       "      <td>0.0</td>\n",
       "      <td>0.0</td>\n",
       "      <td>0.0</td>\n",
       "      <td>0.0</td>\n",
       "      <td>0.000000</td>\n",
       "      <td>0.0</td>\n",
       "      <td>...</td>\n",
       "      <td>0.0</td>\n",
       "      <td>0.000000</td>\n",
       "      <td>0.0</td>\n",
       "      <td>0.0</td>\n",
       "      <td>0.0</td>\n",
       "      <td>0.0</td>\n",
       "      <td>0.0</td>\n",
       "      <td>0.0</td>\n",
       "      <td>0.0</td>\n",
       "      <td>0.0</td>\n",
       "    </tr>\n",
       "    <tr>\n",
       "      <th>1</th>\n",
       "      <td>0.0</td>\n",
       "      <td>0.0</td>\n",
       "      <td>0.0</td>\n",
       "      <td>0.0</td>\n",
       "      <td>0.0</td>\n",
       "      <td>0.0</td>\n",
       "      <td>0.0</td>\n",
       "      <td>0.0</td>\n",
       "      <td>0.000000</td>\n",
       "      <td>0.0</td>\n",
       "      <td>...</td>\n",
       "      <td>0.0</td>\n",
       "      <td>0.000000</td>\n",
       "      <td>0.0</td>\n",
       "      <td>0.0</td>\n",
       "      <td>0.0</td>\n",
       "      <td>0.0</td>\n",
       "      <td>0.0</td>\n",
       "      <td>0.0</td>\n",
       "      <td>0.0</td>\n",
       "      <td>0.0</td>\n",
       "    </tr>\n",
       "    <tr>\n",
       "      <th>2</th>\n",
       "      <td>0.0</td>\n",
       "      <td>0.0</td>\n",
       "      <td>0.0</td>\n",
       "      <td>0.0</td>\n",
       "      <td>0.0</td>\n",
       "      <td>0.0</td>\n",
       "      <td>0.0</td>\n",
       "      <td>0.0</td>\n",
       "      <td>0.000000</td>\n",
       "      <td>0.0</td>\n",
       "      <td>...</td>\n",
       "      <td>0.0</td>\n",
       "      <td>0.000000</td>\n",
       "      <td>0.0</td>\n",
       "      <td>0.0</td>\n",
       "      <td>0.0</td>\n",
       "      <td>0.0</td>\n",
       "      <td>0.0</td>\n",
       "      <td>0.0</td>\n",
       "      <td>0.0</td>\n",
       "      <td>0.0</td>\n",
       "    </tr>\n",
       "    <tr>\n",
       "      <th>3</th>\n",
       "      <td>0.0</td>\n",
       "      <td>0.0</td>\n",
       "      <td>0.0</td>\n",
       "      <td>0.0</td>\n",
       "      <td>0.0</td>\n",
       "      <td>0.0</td>\n",
       "      <td>0.0</td>\n",
       "      <td>0.0</td>\n",
       "      <td>0.266101</td>\n",
       "      <td>0.0</td>\n",
       "      <td>...</td>\n",
       "      <td>0.0</td>\n",
       "      <td>0.000000</td>\n",
       "      <td>0.0</td>\n",
       "      <td>0.0</td>\n",
       "      <td>0.0</td>\n",
       "      <td>0.0</td>\n",
       "      <td>0.0</td>\n",
       "      <td>0.0</td>\n",
       "      <td>0.0</td>\n",
       "      <td>0.0</td>\n",
       "    </tr>\n",
       "    <tr>\n",
       "      <th>4</th>\n",
       "      <td>0.0</td>\n",
       "      <td>0.0</td>\n",
       "      <td>0.0</td>\n",
       "      <td>0.0</td>\n",
       "      <td>0.0</td>\n",
       "      <td>0.0</td>\n",
       "      <td>0.0</td>\n",
       "      <td>0.0</td>\n",
       "      <td>0.000000</td>\n",
       "      <td>0.0</td>\n",
       "      <td>...</td>\n",
       "      <td>0.0</td>\n",
       "      <td>0.000000</td>\n",
       "      <td>0.0</td>\n",
       "      <td>0.0</td>\n",
       "      <td>0.0</td>\n",
       "      <td>0.0</td>\n",
       "      <td>0.0</td>\n",
       "      <td>0.0</td>\n",
       "      <td>0.0</td>\n",
       "      <td>0.0</td>\n",
       "    </tr>\n",
       "    <tr>\n",
       "      <th>...</th>\n",
       "      <td>...</td>\n",
       "      <td>...</td>\n",
       "      <td>...</td>\n",
       "      <td>...</td>\n",
       "      <td>...</td>\n",
       "      <td>...</td>\n",
       "      <td>...</td>\n",
       "      <td>...</td>\n",
       "      <td>...</td>\n",
       "      <td>...</td>\n",
       "      <td>...</td>\n",
       "      <td>...</td>\n",
       "      <td>...</td>\n",
       "      <td>...</td>\n",
       "      <td>...</td>\n",
       "      <td>...</td>\n",
       "      <td>...</td>\n",
       "      <td>...</td>\n",
       "      <td>...</td>\n",
       "      <td>...</td>\n",
       "      <td>...</td>\n",
       "    </tr>\n",
       "    <tr>\n",
       "      <th>201</th>\n",
       "      <td>0.0</td>\n",
       "      <td>0.0</td>\n",
       "      <td>0.0</td>\n",
       "      <td>0.0</td>\n",
       "      <td>0.0</td>\n",
       "      <td>0.0</td>\n",
       "      <td>0.0</td>\n",
       "      <td>0.0</td>\n",
       "      <td>0.000000</td>\n",
       "      <td>0.0</td>\n",
       "      <td>...</td>\n",
       "      <td>0.0</td>\n",
       "      <td>0.000000</td>\n",
       "      <td>0.0</td>\n",
       "      <td>0.0</td>\n",
       "      <td>0.0</td>\n",
       "      <td>0.0</td>\n",
       "      <td>0.0</td>\n",
       "      <td>0.0</td>\n",
       "      <td>0.0</td>\n",
       "      <td>0.0</td>\n",
       "    </tr>\n",
       "    <tr>\n",
       "      <th>202</th>\n",
       "      <td>0.0</td>\n",
       "      <td>0.0</td>\n",
       "      <td>0.0</td>\n",
       "      <td>0.0</td>\n",
       "      <td>0.0</td>\n",
       "      <td>0.0</td>\n",
       "      <td>0.0</td>\n",
       "      <td>0.0</td>\n",
       "      <td>0.000000</td>\n",
       "      <td>0.0</td>\n",
       "      <td>...</td>\n",
       "      <td>0.0</td>\n",
       "      <td>0.000000</td>\n",
       "      <td>0.0</td>\n",
       "      <td>0.0</td>\n",
       "      <td>0.0</td>\n",
       "      <td>0.0</td>\n",
       "      <td>0.0</td>\n",
       "      <td>0.0</td>\n",
       "      <td>0.0</td>\n",
       "      <td>0.0</td>\n",
       "    </tr>\n",
       "    <tr>\n",
       "      <th>203</th>\n",
       "      <td>0.0</td>\n",
       "      <td>0.0</td>\n",
       "      <td>0.0</td>\n",
       "      <td>0.0</td>\n",
       "      <td>0.0</td>\n",
       "      <td>0.0</td>\n",
       "      <td>0.0</td>\n",
       "      <td>0.0</td>\n",
       "      <td>0.000000</td>\n",
       "      <td>0.0</td>\n",
       "      <td>...</td>\n",
       "      <td>0.0</td>\n",
       "      <td>0.000000</td>\n",
       "      <td>0.0</td>\n",
       "      <td>0.0</td>\n",
       "      <td>0.0</td>\n",
       "      <td>0.0</td>\n",
       "      <td>0.0</td>\n",
       "      <td>0.0</td>\n",
       "      <td>0.0</td>\n",
       "      <td>0.0</td>\n",
       "    </tr>\n",
       "    <tr>\n",
       "      <th>204</th>\n",
       "      <td>0.0</td>\n",
       "      <td>0.0</td>\n",
       "      <td>0.0</td>\n",
       "      <td>0.0</td>\n",
       "      <td>0.0</td>\n",
       "      <td>0.0</td>\n",
       "      <td>0.0</td>\n",
       "      <td>0.0</td>\n",
       "      <td>0.000000</td>\n",
       "      <td>0.0</td>\n",
       "      <td>...</td>\n",
       "      <td>0.0</td>\n",
       "      <td>0.000000</td>\n",
       "      <td>0.0</td>\n",
       "      <td>0.0</td>\n",
       "      <td>0.0</td>\n",
       "      <td>0.0</td>\n",
       "      <td>0.0</td>\n",
       "      <td>0.0</td>\n",
       "      <td>0.0</td>\n",
       "      <td>0.0</td>\n",
       "    </tr>\n",
       "    <tr>\n",
       "      <th>205</th>\n",
       "      <td>0.0</td>\n",
       "      <td>0.0</td>\n",
       "      <td>0.0</td>\n",
       "      <td>0.0</td>\n",
       "      <td>0.0</td>\n",
       "      <td>0.0</td>\n",
       "      <td>0.0</td>\n",
       "      <td>0.0</td>\n",
       "      <td>0.000000</td>\n",
       "      <td>0.0</td>\n",
       "      <td>...</td>\n",
       "      <td>0.0</td>\n",
       "      <td>0.332215</td>\n",
       "      <td>0.0</td>\n",
       "      <td>0.0</td>\n",
       "      <td>0.0</td>\n",
       "      <td>0.0</td>\n",
       "      <td>0.0</td>\n",
       "      <td>0.0</td>\n",
       "      <td>0.0</td>\n",
       "      <td>0.0</td>\n",
       "    </tr>\n",
       "  </tbody>\n",
       "</table>\n",
       "<p>206 rows × 749 columns</p>\n",
       "</div>"
      ],
      "text/plain": [
       "       ?   가격   가끔   가능  가능 성  가능 하   가량   가상        가장   가지  ...   화폐  \\\n",
       "0    0.0  0.0  0.0  0.0   0.0   0.0  0.0  0.0  0.000000  0.0  ...  0.0   \n",
       "1    0.0  0.0  0.0  0.0   0.0   0.0  0.0  0.0  0.000000  0.0  ...  0.0   \n",
       "2    0.0  0.0  0.0  0.0   0.0   0.0  0.0  0.0  0.000000  0.0  ...  0.0   \n",
       "3    0.0  0.0  0.0  0.0   0.0   0.0  0.0  0.0  0.266101  0.0  ...  0.0   \n",
       "4    0.0  0.0  0.0  0.0   0.0   0.0  0.0  0.0  0.000000  0.0  ...  0.0   \n",
       "..   ...  ...  ...  ...   ...   ...  ...  ...       ...  ...  ...  ...   \n",
       "201  0.0  0.0  0.0  0.0   0.0   0.0  0.0  0.0  0.000000  0.0  ...  0.0   \n",
       "202  0.0  0.0  0.0  0.0   0.0   0.0  0.0  0.0  0.000000  0.0  ...  0.0   \n",
       "203  0.0  0.0  0.0  0.0   0.0   0.0  0.0  0.0  0.000000  0.0  ...  0.0   \n",
       "204  0.0  0.0  0.0  0.0   0.0   0.0  0.0  0.0  0.000000  0.0  ...  0.0   \n",
       "205  0.0  0.0  0.0  0.0   0.0   0.0  0.0  0.0  0.000000  0.0  ...  0.0   \n",
       "\n",
       "           확대   확보   확산   환경   활용   회사   회장   효과    후  \n",
       "0    0.000000  0.0  0.0  0.0  0.0  0.0  0.0  0.0  0.0  \n",
       "1    0.000000  0.0  0.0  0.0  0.0  0.0  0.0  0.0  0.0  \n",
       "2    0.000000  0.0  0.0  0.0  0.0  0.0  0.0  0.0  0.0  \n",
       "3    0.000000  0.0  0.0  0.0  0.0  0.0  0.0  0.0  0.0  \n",
       "4    0.000000  0.0  0.0  0.0  0.0  0.0  0.0  0.0  0.0  \n",
       "..        ...  ...  ...  ...  ...  ...  ...  ...  ...  \n",
       "201  0.000000  0.0  0.0  0.0  0.0  0.0  0.0  0.0  0.0  \n",
       "202  0.000000  0.0  0.0  0.0  0.0  0.0  0.0  0.0  0.0  \n",
       "203  0.000000  0.0  0.0  0.0  0.0  0.0  0.0  0.0  0.0  \n",
       "204  0.000000  0.0  0.0  0.0  0.0  0.0  0.0  0.0  0.0  \n",
       "205  0.332215  0.0  0.0  0.0  0.0  0.0  0.0  0.0  0.0  \n",
       "\n",
       "[206 rows x 749 columns]"
      ]
     },
     "execution_count": 171,
     "metadata": {},
     "output_type": "execute_result"
    }
   ],
   "source": [
    "X_valid"
   ]
  },
  {
   "cell_type": "code",
   "execution_count": 161,
   "metadata": {},
   "outputs": [
    {
     "data": {
      "text/plain": [
       "{'criterion': 'gini',\n",
       " 'max_depth': None,\n",
       " 'min_samples_split': 10,\n",
       " 'n_estimators': 399}"
      ]
     },
     "execution_count": 161,
     "metadata": {},
     "output_type": "execute_result"
    }
   ],
   "source": [
    "random_search.best_params_"
   ]
  },
  {
   "cell_type": "code",
   "execution_count": 160,
   "metadata": {},
   "outputs": [
    {
     "name": "stderr",
     "output_type": "stream",
     "text": [
      "\u001b[34m\u001b[1mwandb\u001b[0m: \n",
      "\u001b[34m\u001b[1mwandb\u001b[0m: Plotting RandomForest_rancv.\n",
      "/Users/seungbeomha/opt/anaconda3/lib/python3.9/site-packages/sklearn/base.py:450: UserWarning: X does not have valid feature names, but RandomForestClassifier was fitted with feature names\n",
      "  warnings.warn(\n",
      "\u001b[34m\u001b[1mwandb\u001b[0m: Logged feature importances.\n",
      "\u001b[34m\u001b[1mwandb\u001b[0m: Logged confusion matrix.\n",
      "/Users/seungbeomha/opt/anaconda3/lib/python3.9/site-packages/sklearn/base.py:450: UserWarning: X does not have valid feature names, but RandomForestClassifier was fitted with feature names\n",
      "  warnings.warn(\n",
      "\u001b[34m\u001b[1mwandb\u001b[0m: Logged summary metrics.\n",
      "\u001b[34m\u001b[1mwandb\u001b[0m: Logged class proportions.\n",
      "/Users/seungbeomha/opt/anaconda3/lib/python3.9/site-packages/sklearn/base.py:450: UserWarning: X does not have valid feature names, but RandomForestClassifier was fitted with feature names\n",
      "  warnings.warn(\n",
      "\u001b[34m\u001b[1mwandb\u001b[0m: \u001b[33mWARNING\u001b[0m This function only supports binary classification at the moment and therefore expects labels to be binary. Skipping calibration curve.\n",
      "\u001b[34m\u001b[1mwandb\u001b[0m: Logged calibration curve.\n",
      "\u001b[34m\u001b[1mwandb\u001b[0m: Logged roc curve.\n",
      "\u001b[34m\u001b[1mwandb\u001b[0m: Logged precision-recall curve.\n"
     ]
    },
    {
     "data": {
      "text/html": [
       "Waiting for W&B process to finish... <strong style=\"color:green\">(success).</strong>"
      ],
      "text/plain": [
       "<IPython.core.display.HTML object>"
      ]
     },
     "metadata": {},
     "output_type": "display_data"
    },
    {
     "data": {
      "text/html": [
       " View run <strong style=\"color:#cdcd00\">beaming-firecracker-19</strong> at: <a href=\"https://wandb.ai/tmdqja75/my-nlp-project/runs/hgddmq2p\" target=\"_blank\">https://wandb.ai/tmdqja75/my-nlp-project/runs/hgddmq2p</a><br/>Synced 6 W&B file(s), 12 media file(s), 11 artifact file(s) and 0 other file(s)"
      ],
      "text/plain": [
       "<IPython.core.display.HTML object>"
      ]
     },
     "metadata": {},
     "output_type": "display_data"
    },
    {
     "data": {
      "text/html": [
       "Find logs at: <code>./wandb/run-20230201_182911-hgddmq2p/logs</code>"
      ],
      "text/plain": [
       "<IPython.core.display.HTML object>"
      ]
     },
     "metadata": {},
     "output_type": "display_data"
    }
   ],
   "source": [
    "wandb.sklearn.plot_classifier(best_rf, \n",
    "                              X_train, X_valid, \n",
    "                              y_train, y_valid, \n",
    "                              pred_rf, prob_rf, \n",
    "                              best_rf.classes_, \n",
    "                              is_binary=True, \n",
    "                              model_name='RandomForest_rancv')\n",
    "\n",
    "wandb.finish()"
   ]
  },
  {
   "cell_type": "markdown",
   "metadata": {},
   "source": [
    "## LightGBM"
   ]
  },
  {
   "cell_type": "code",
   "execution_count": 162,
   "metadata": {},
   "outputs": [
    {
     "name": "stdout",
     "output_type": "stream",
     "text": [
      "Model Fit time: 33.14475703239441\n",
      "Model pred time: 0.024654865264892578\n",
      "accuracy=0.6747572815533981\n",
      "f1=0.6730435839003481\n",
      "auc_ovo=0.8785703059891241\n",
      "auc_ovr=0.8790492516654755\n",
      "              precision    recall  f1-score   support\n",
      "\n",
      "         대화형      0.824     0.808     0.816        52\n",
      "         사실형      0.566     0.588     0.577        51\n",
      "         예측형      0.800     0.769     0.784        52\n",
      "         추론형      0.519     0.529     0.524        51\n",
      "\n",
      "    accuracy                          0.675       206\n",
      "   macro avg      0.677     0.674     0.675       206\n",
      "weighted avg      0.679     0.675     0.676       206\n",
      "\n"
     ]
    },
    {
     "data": {
      "text/plain": [
       "(array(['추론형', '사실형', '추론형', '대화형', '대화형', '예측형', '대화형', '사실형', '추론형',\n",
       "        '대화형', '추론형', '추론형', '예측형', '사실형', '예측형', '사실형', '추론형', '예측형',\n",
       "        '대화형', '사실형', '예측형', '사실형', '대화형', '예측형', '대화형', '예측형', '사실형',\n",
       "        '대화형', '예측형', '예측형', '예측형', '예측형', '추론형', '사실형', '사실형', '사실형',\n",
       "        '사실형', '예측형', '추론형', '예측형', '예측형', '추론형', '사실형', '사실형', '추론형',\n",
       "        '예측형', '사실형', '예측형', '추론형', '대화형', '예측형', '추론형', '사실형', '대화형',\n",
       "        '대화형', '사실형', '예측형', '대화형', '대화형', '대화형', '사실형', '추론형', '대화형',\n",
       "        '사실형', '예측형', '사실형', '추론형', '대화형', '사실형', '예측형', '예측형', '추론형',\n",
       "        '예측형', '대화형', '추론형', '예측형', '대화형', '예측형', '추론형', '대화형', '예측형',\n",
       "        '사실형', '예측형', '사실형', '사실형', '예측형', '사실형', '대화형', '사실형', '사실형',\n",
       "        '예측형', '대화형', '추론형', '대화형', '대화형', '추론형', '예측형', '추론형', '대화형',\n",
       "        '추론형', '예측형', '대화형', '추론형', '사실형', '사실형', '추론형', '대화형', '추론형',\n",
       "        '사실형', '대화형', '추론형', '추론형', '대화형', '사실형', '추론형', '추론형', '예측형',\n",
       "        '예측형', '예측형', '추론형', '예측형', '사실형', '추론형', '대화형', '추론형', '대화형',\n",
       "        '추론형', '사실형', '추론형', '예측형', '사실형', '대화형', '추론형', '사실형', '추론형',\n",
       "        '사실형', '대화형', '예측형', '사실형', '예측형', '사실형', '추론형', '예측형', '사실형',\n",
       "        '예측형', '대화형', '추론형', '대화형', '대화형', '대화형', '추론형', '사실형', '사실형',\n",
       "        '예측형', '예측형', '추론형', '대화형', '추론형', '대화형', '사실형', '사실형', '대화형',\n",
       "        '추론형', '사실형', '대화형', '사실형', '사실형', '예측형', '사실형', '예측형', '추론형',\n",
       "        '추론형', '대화형', '추론형', '추론형', '대화형', '대화형', '대화형', '예측형', '사실형',\n",
       "        '대화형', '예측형', '대화형', '예측형', '예측형', '사실형', '예측형', '대화형', '대화형',\n",
       "        '사실형', '사실형', '추론형', '대화형', '추론형', '대화형', '대화형', '추론형', '예측형',\n",
       "        '사실형', '추론형', '추론형', '사실형', '추론형', '추론형', '사실형', '예측형'],\n",
       "       dtype=object),\n",
       " array([[2.97899215e-06, 6.05272006e-06, 9.69153102e-08, 9.99990871e-01],\n",
       "        [1.30744248e-04, 9.98592145e-01, 9.48794090e-06, 1.26762253e-03],\n",
       "        [6.18205765e-05, 5.70932189e-02, 3.01979113e-04, 9.42542981e-01],\n",
       "        [9.96638823e-01, 6.68149908e-07, 1.64697010e-06, 3.35886230e-03],\n",
       "        [9.92495657e-01, 7.47729838e-03, 4.78363006e-08, 2.69969526e-05],\n",
       "        [7.41928842e-06, 2.31056522e-04, 9.99758452e-01, 3.07262307e-06],\n",
       "        [9.99198925e-01, 2.63089182e-04, 1.13348341e-08, 5.37974982e-04],\n",
       "        [9.27580635e-07, 9.99990336e-01, 8.71034872e-06, 2.63023178e-08],\n",
       "        [2.09372533e-04, 3.41264893e-02, 1.07894617e-06, 9.65663059e-01],\n",
       "        [9.99940813e-01, 1.73449959e-07, 9.36361022e-09, 5.90045258e-05],\n",
       "        [4.24628535e-02, 9.48265318e-04, 2.19501606e-04, 9.56369380e-01],\n",
       "        [4.56593254e-01, 3.30885074e-03, 1.27428287e-07, 5.40097767e-01],\n",
       "        [6.04125380e-07, 4.73675122e-05, 9.99940838e-01, 1.11906046e-05],\n",
       "        [4.52787154e-04, 9.67803044e-01, 1.82158805e-05, 3.17259532e-02],\n",
       "        [3.67365061e-09, 3.09808289e-05, 9.99969009e-01, 6.55875723e-09],\n",
       "        [6.63878818e-05, 9.76156790e-01, 2.94369866e-04, 2.34824520e-02],\n",
       "        [3.65270601e-01, 4.76489619e-04, 2.31918826e-06, 6.34250590e-01],\n",
       "        [4.29260178e-09, 1.56259616e-06, 9.99689712e-01, 3.08720875e-04],\n",
       "        [6.73802242e-01, 3.69417776e-02, 9.87642850e-06, 2.89246104e-01],\n",
       "        [2.55972288e-01, 7.04887283e-01, 1.36365878e-02, 2.55038416e-02],\n",
       "        [1.67279146e-10, 4.06596179e-05, 9.99959320e-01, 2.01828427e-08],\n",
       "        [1.38903651e-03, 7.31261358e-01, 2.45675428e-06, 2.67347149e-01],\n",
       "        [9.96515169e-01, 1.78370835e-03, 9.42698614e-07, 1.70017994e-03],\n",
       "        [5.03325557e-08, 9.60855962e-07, 9.99994759e-01, 4.23014373e-06],\n",
       "        [9.91330401e-01, 2.00183850e-06, 1.24867991e-03, 7.41891690e-03],\n",
       "        [1.36786252e-06, 4.52361071e-07, 9.97162357e-01, 2.83582241e-03],\n",
       "        [1.80160284e-05, 9.99967262e-01, 3.10783929e-06, 1.16141418e-05],\n",
       "        [9.98896183e-01, 8.36205926e-06, 2.82226357e-07, 1.09517314e-03],\n",
       "        [1.73675432e-08, 1.36836470e-02, 9.86316323e-01, 1.31157500e-08],\n",
       "        [5.23305817e-11, 9.76770345e-06, 9.99989300e-01, 9.32161161e-07],\n",
       "        [2.89227506e-06, 3.98282643e-05, 9.99915858e-01, 4.14219255e-05],\n",
       "        [8.65652844e-07, 7.22873429e-05, 9.94812383e-01, 5.11446444e-03],\n",
       "        [6.96303670e-05, 2.95514158e-01, 7.77311152e-06, 7.04408438e-01],\n",
       "        [2.98914713e-05, 6.81409468e-01, 8.12251505e-06, 3.18552518e-01],\n",
       "        [1.51279383e-01, 5.90363256e-01, 1.25285712e-03, 2.57104503e-01],\n",
       "        [7.36318728e-08, 9.99994644e-01, 5.24097059e-06, 4.09179240e-08],\n",
       "        [1.39462231e-04, 9.84196769e-01, 2.21473409e-04, 1.54422958e-02],\n",
       "        [1.71083126e-05, 1.12185444e-04, 9.99818152e-01, 5.25547064e-05],\n",
       "        [1.24834177e-04, 1.04118366e-04, 1.41974206e-04, 9.99629073e-01],\n",
       "        [7.92442671e-10, 7.58656580e-06, 9.99992401e-01, 1.14411292e-08],\n",
       "        [1.81752578e-08, 9.27943785e-06, 9.99981700e-01, 9.00254602e-06],\n",
       "        [2.76939260e-05, 2.74023973e-04, 4.98667572e-07, 9.99697783e-01],\n",
       "        [3.96774895e-06, 9.99813563e-01, 9.99409018e-05, 8.25284083e-05],\n",
       "        [9.88502041e-02, 9.01041727e-01, 2.78282002e-05, 8.02410115e-05],\n",
       "        [3.78459858e-05, 8.77021837e-02, 1.44293201e-07, 9.12259826e-01],\n",
       "        [2.95813232e-06, 8.23818192e-03, 9.77717953e-01, 1.40409067e-02],\n",
       "        [6.18265957e-06, 9.98932128e-01, 5.05811546e-05, 1.01110791e-03],\n",
       "        [6.01603374e-06, 3.46909407e-02, 9.24022478e-01, 4.12805649e-02],\n",
       "        [3.47344504e-03, 5.88930821e-02, 7.67448115e-05, 9.37556728e-01],\n",
       "        [9.59431074e-01, 5.60878184e-03, 5.99202552e-07, 3.49595454e-02],\n",
       "        [1.24894176e-07, 3.67334598e-06, 8.67436510e-01, 1.32559692e-01],\n",
       "        [9.96602214e-06, 1.33320589e-03, 4.38426198e-04, 9.98218402e-01],\n",
       "        [9.22926134e-09, 9.99999763e-01, 1.57927216e-07, 6.96477582e-08],\n",
       "        [9.96667958e-01, 1.07599170e-06, 9.85839885e-09, 3.33095611e-03],\n",
       "        [9.99822740e-01, 1.72993368e-04, 1.50127154e-06, 2.76512715e-06],\n",
       "        [5.29358431e-03, 9.63785398e-01, 5.31386262e-05, 3.08678795e-02],\n",
       "        [2.51243424e-09, 6.85274567e-06, 9.93944174e-01, 6.04897065e-03],\n",
       "        [9.60013091e-01, 3.72101576e-02, 5.80119753e-04, 2.19663159e-03],\n",
       "        [9.99770698e-01, 1.94017187e-04, 2.53186700e-05, 9.96655823e-06],\n",
       "        [9.98110469e-01, 4.79005732e-07, 4.79226524e-07, 1.88857251e-03],\n",
       "        [3.08899447e-04, 9.77558272e-01, 1.90933580e-02, 3.03947070e-03],\n",
       "        [3.31181906e-05, 5.54063442e-03, 1.90815388e-04, 9.94235432e-01],\n",
       "        [6.03591477e-01, 2.77786218e-01, 3.79639598e-04, 1.18242665e-01],\n",
       "        [6.03699848e-07, 9.99719331e-01, 2.67681702e-04, 1.23836652e-05],\n",
       "        [3.93226098e-05, 7.09172973e-03, 9.81968544e-01, 1.09004041e-02],\n",
       "        [1.00451562e-04, 9.73102670e-01, 1.46028911e-04, 2.66508495e-02],\n",
       "        [2.55942673e-06, 1.43565379e-03, 1.55647257e-06, 9.98560230e-01],\n",
       "        [9.79970138e-01, 8.10121134e-03, 1.05205076e-03, 1.08765997e-02],\n",
       "        [6.04610380e-04, 6.20145511e-01, 1.55078528e-01, 2.24171351e-01],\n",
       "        [6.97708761e-07, 3.15659744e-01, 6.84337478e-01, 2.07997376e-06],\n",
       "        [1.46838232e-02, 9.67638364e-04, 9.39402185e-01, 4.49463536e-02],\n",
       "        [3.77202652e-04, 1.79243526e-02, 2.87155676e-04, 9.81411289e-01],\n",
       "        [1.34373815e-08, 8.55419786e-04, 9.99136177e-01, 8.38988683e-06],\n",
       "        [9.99986056e-01, 1.53822873e-06, 7.60848269e-09, 1.23982699e-05],\n",
       "        [1.55394917e-02, 1.92791153e-01, 3.19248917e-03, 7.88476867e-01],\n",
       "        [1.99217263e-09, 3.35058115e-07, 9.99993887e-01, 5.77575820e-06],\n",
       "        [9.99959814e-01, 4.00520686e-05, 6.81073919e-09, 1.26803524e-07],\n",
       "        [1.00565160e-01, 2.12969333e-02, 8.76860922e-01, 1.27698464e-03],\n",
       "        [1.16319825e-03, 3.62753471e-01, 9.21324253e-07, 6.36082409e-01],\n",
       "        [9.96633496e-01, 3.32646560e-03, 3.40057896e-05, 6.03262633e-06],\n",
       "        [1.70125194e-10, 1.92362425e-07, 9.99998562e-01, 1.24518822e-06],\n",
       "        [6.17670704e-05, 9.99771744e-01, 1.27940843e-07, 1.66360762e-04],\n",
       "        [4.89434212e-10, 3.71184804e-08, 9.99996227e-01, 3.73576816e-06],\n",
       "        [2.60318920e-01, 7.18155969e-01, 6.05307816e-06, 2.15190580e-02],\n",
       "        [1.85652969e-04, 7.29996819e-01, 1.81306984e-07, 2.69817347e-01],\n",
       "        [8.15397982e-04, 9.94099675e-02, 5.67449386e-01, 3.32325249e-01],\n",
       "        [5.07434290e-04, 9.82652207e-01, 1.06863621e-02, 6.15399630e-03],\n",
       "        [9.99893391e-01, 2.27654485e-06, 2.44787865e-10, 1.04331830e-04],\n",
       "        [2.51989555e-05, 6.73454244e-01, 4.00948371e-05, 3.26480463e-01],\n",
       "        [9.13289865e-04, 7.41533230e-01, 6.94169809e-05, 2.57484063e-01],\n",
       "        [4.79513470e-09, 6.19532361e-05, 9.99933105e-01, 4.93723990e-06],\n",
       "        [9.99631760e-01, 7.44551572e-05, 2.77573364e-08, 2.93756591e-04],\n",
       "        [3.81277011e-05, 3.82211721e-01, 1.79739805e-03, 6.15952753e-01],\n",
       "        [9.85145596e-01, 1.43122102e-05, 3.17963189e-06, 1.48369121e-02],\n",
       "        [9.66270716e-01, 4.12639623e-05, 1.55143370e-06, 3.36864686e-02],\n",
       "        [1.05163432e-04, 4.18473176e-01, 1.47759403e-01, 4.33662258e-01],\n",
       "        [4.44592067e-05, 3.72437130e-02, 9.62687940e-01, 2.38879612e-05],\n",
       "        [2.13066377e-05, 3.77674165e-01, 7.50065567e-06, 6.22297028e-01],\n",
       "        [9.82914887e-01, 4.81397421e-03, 2.63185505e-03, 9.63928334e-03],\n",
       "        [6.09089913e-05, 9.72603979e-02, 1.55554802e-06, 9.02677138e-01],\n",
       "        [2.95920413e-06, 6.68859120e-06, 9.99990145e-01, 2.06942685e-07],\n",
       "        [6.43707440e-01, 9.01347979e-05, 4.10020589e-05, 3.56161424e-01],\n",
       "        [1.68584846e-06, 1.98770754e-04, 1.02020904e-04, 9.99697522e-01],\n",
       "        [2.06598737e-01, 6.72813798e-01, 1.08706313e-03, 1.19500401e-01],\n",
       "        [2.90436476e-04, 9.79412066e-01, 5.04305350e-04, 1.97931923e-02],\n",
       "        [7.72563175e-04, 4.46073456e-01, 1.99647229e-05, 5.53134016e-01],\n",
       "        [8.52577335e-01, 1.74930496e-02, 1.93965867e-06, 1.29927675e-01],\n",
       "        [9.19879546e-06, 7.33266678e-04, 2.79083074e-04, 9.98978451e-01],\n",
       "        [1.56925493e-05, 9.99250277e-01, 2.46590765e-05, 7.09371306e-04],\n",
       "        [9.99949822e-01, 3.05502444e-05, 3.35510646e-07, 1.92919698e-05],\n",
       "        [4.76784352e-07, 3.50434849e-05, 1.00193112e-05, 9.99954460e-01],\n",
       "        [6.46763519e-03, 7.75471742e-05, 5.00396024e-06, 9.93449814e-01],\n",
       "        [7.19886941e-01, 2.38563497e-01, 4.08187431e-04, 4.11413748e-02],\n",
       "        [2.93966021e-05, 8.86502340e-01, 2.57547123e-04, 1.13210716e-01],\n",
       "        [7.31541468e-04, 3.02874162e-01, 5.06476211e-06, 6.96389232e-01],\n",
       "        [1.45803426e-04, 9.42441553e-02, 1.84680787e-07, 9.05609857e-01],\n",
       "        [1.20988280e-01, 1.10767304e-01, 7.66929412e-01, 1.31500391e-03],\n",
       "        [5.93072143e-10, 2.57271162e-06, 9.99997397e-01, 3.00551156e-08],\n",
       "        [4.84933707e-10, 2.06024265e-04, 9.99793942e-01, 3.32592906e-08],\n",
       "        [4.50123323e-01, 1.17787917e-02, 1.99164602e-06, 5.38095893e-01],\n",
       "        [8.06743794e-08, 9.30762819e-05, 9.99906711e-01, 1.32232352e-07],\n",
       "        [1.41602287e-05, 9.98094481e-01, 1.68284196e-03, 2.08517167e-04],\n",
       "        [6.01231883e-02, 1.64504261e-01, 7.56743028e-05, 7.75296876e-01],\n",
       "        [9.96051927e-01, 3.90141652e-03, 2.47034123e-06, 4.41856525e-05],\n",
       "        [3.51004565e-07, 6.45298377e-05, 1.13107769e-07, 9.99935006e-01],\n",
       "        [9.99955181e-01, 2.86943574e-07, 5.07961700e-08, 4.44812699e-05],\n",
       "        [9.50060665e-07, 2.16375601e-08, 1.09005364e-08, 9.99999017e-01],\n",
       "        [3.71059054e-04, 9.26496442e-01, 7.26176386e-02, 5.14860349e-04],\n",
       "        [4.08408989e-05, 1.34717184e-03, 1.93279399e-07, 9.98611794e-01],\n",
       "        [7.93533640e-07, 6.23944671e-05, 9.99914261e-01, 2.25506916e-05],\n",
       "        [1.19630609e-01, 8.57741454e-01, 1.39079476e-04, 2.24888582e-02],\n",
       "        [9.99961907e-01, 4.79123148e-07, 1.30002962e-07, 3.74841456e-05],\n",
       "        [2.08512792e-07, 7.10483146e-03, 6.46395610e-09, 9.92894954e-01],\n",
       "        [6.60199008e-03, 9.55684999e-01, 5.29674742e-05, 3.76600433e-02],\n",
       "        [2.77551485e-04, 2.24920992e-01, 9.39698537e-04, 7.73861758e-01],\n",
       "        [6.31086120e-05, 9.83488853e-01, 1.54869220e-04, 1.62931696e-02],\n",
       "        [9.78504043e-01, 1.59521192e-02, 3.59973140e-04, 5.18386441e-03],\n",
       "        [8.88963504e-08, 3.18316940e-06, 9.99987499e-01, 9.22851564e-06],\n",
       "        [5.27516257e-04, 9.41296444e-01, 5.01216208e-05, 5.81259178e-02],\n",
       "        [5.84407623e-06, 2.72049121e-01, 7.27764196e-01, 1.80838975e-04],\n",
       "        [4.07268738e-03, 6.46531353e-01, 9.29401320e-05, 3.49303019e-01],\n",
       "        [1.56966364e-01, 7.44659051e-02, 3.40518762e-02, 7.34515854e-01],\n",
       "        [4.27502442e-08, 1.20219306e-04, 9.99878981e-01, 7.56737439e-07],\n",
       "        [2.48812812e-05, 7.58458963e-01, 2.41415000e-01, 1.01155974e-04],\n",
       "        [6.25193488e-06, 1.12350691e-03, 9.98435873e-01, 4.34368554e-04],\n",
       "        [9.99655795e-01, 1.37108114e-04, 3.61190370e-08, 2.07060639e-04],\n",
       "        [8.26730469e-06, 2.62024635e-03, 3.41188916e-08, 9.97371452e-01],\n",
       "        [9.99659470e-01, 2.89908860e-04, 3.98983895e-09, 5.06169863e-05],\n",
       "        [9.93959350e-01, 5.83157237e-03, 4.37708032e-05, 1.65306449e-04],\n",
       "        [7.70080746e-01, 2.18090584e-01, 1.37762629e-04, 1.16909069e-02],\n",
       "        [1.61148096e-03, 2.00548778e-04, 3.03233002e-04, 9.97884737e-01],\n",
       "        [3.83521931e-06, 9.99864660e-01, 5.42179593e-07, 1.30962628e-04],\n",
       "        [2.71379242e-04, 9.29628251e-01, 1.13196753e-05, 7.00890506e-02],\n",
       "        [1.97571678e-08, 7.23128466e-06, 9.99992631e-01, 1.17879127e-07],\n",
       "        [1.19780228e-09, 1.10908644e-04, 9.99887639e-01, 1.45071880e-06],\n",
       "        [1.54329421e-04, 2.02117637e-01, 9.49144066e-05, 7.97633119e-01],\n",
       "        [9.99966576e-01, 1.11338247e-05, 4.82901825e-06, 1.74615945e-05],\n",
       "        [1.53524686e-03, 1.97078921e-01, 8.05006355e-06, 8.01377782e-01],\n",
       "        [9.99748135e-01, 1.18703051e-04, 1.24483829e-06, 1.31917424e-04],\n",
       "        [5.87725018e-05, 9.71180340e-01, 2.72805948e-04, 2.84880820e-02],\n",
       "        [6.79788746e-07, 8.87439085e-01, 1.12502439e-01, 5.77957017e-05],\n",
       "        [9.99878167e-01, 8.88468257e-06, 8.48679019e-07, 1.12099458e-04],\n",
       "        [8.14026288e-06, 1.41214233e-02, 2.20645272e-04, 9.85649791e-01],\n",
       "        [3.49815457e-05, 9.90409286e-01, 1.39045875e-05, 9.54182778e-03],\n",
       "        [9.99449016e-01, 2.02998325e-04, 8.74590250e-09, 3.47976667e-04],\n",
       "        [1.62278086e-02, 8.95173784e-01, 7.18035549e-02, 1.67948527e-02],\n",
       "        [7.05787981e-06, 9.99131051e-01, 1.57596425e-06, 8.60315362e-04],\n",
       "        [5.14494459e-11, 7.59145677e-06, 9.99992403e-01, 5.70158898e-09],\n",
       "        [7.16269485e-07, 9.99998794e-01, 1.23283303e-07, 3.66183870e-07],\n",
       "        [2.03097188e-08, 8.24625011e-05, 9.99917340e-01, 1.76805557e-07],\n",
       "        [6.10590203e-04, 4.91255817e-01, 2.32948305e-04, 5.07900645e-01],\n",
       "        [1.81744734e-04, 1.88795262e-01, 4.19058307e-05, 8.10981087e-01],\n",
       "        [6.70170924e-01, 3.65960016e-02, 1.12899804e-05, 2.93221784e-01],\n",
       "        [1.16252608e-04, 9.18785466e-02, 4.18727965e-02, 8.66132404e-01],\n",
       "        [1.86454676e-06, 1.39318014e-03, 6.91820382e-09, 9.98604948e-01],\n",
       "        [9.99989061e-01, 5.52940825e-06, 1.34609962e-08, 5.39568846e-06],\n",
       "        [9.94526055e-01, 3.55009773e-03, 8.11789967e-07, 1.92303521e-03],\n",
       "        [9.98900554e-01, 3.87351576e-04, 1.15353551e-07, 7.11978939e-04],\n",
       "        [1.06204247e-03, 2.61272629e-02, 9.22561930e-01, 5.02487650e-02],\n",
       "        [2.95329339e-03, 6.64686717e-01, 3.90230430e-03, 3.28457686e-01],\n",
       "        [9.99905755e-01, 3.64843478e-05, 4.26350563e-07, 5.73346520e-05],\n",
       "        [7.17040426e-04, 2.59344329e-06, 9.97920828e-01, 1.35953816e-03],\n",
       "        [9.87858414e-01, 1.58164911e-04, 1.03987692e-08, 1.19834107e-02],\n",
       "        [1.01519863e-08, 4.60159032e-06, 9.99928939e-01, 6.64491752e-05],\n",
       "        [3.16291344e-10, 4.15259590e-06, 9.99995681e-01, 1.66497692e-07],\n",
       "        [1.22620003e-02, 9.69462113e-01, 4.18560067e-05, 1.82340308e-02],\n",
       "        [1.14675650e-09, 4.06750175e-07, 9.99998391e-01, 1.20099375e-06],\n",
       "        [9.99285439e-01, 5.34183720e-04, 1.79413930e-07, 1.80197785e-04],\n",
       "        [9.95621834e-01, 6.37324920e-06, 5.57942910e-09, 4.37178727e-03],\n",
       "        [7.07913358e-04, 9.98077571e-01, 5.22660873e-06, 1.20928928e-03],\n",
       "        [6.94810482e-03, 9.65469873e-01, 6.52781049e-03, 2.10542121e-02],\n",
       "        [4.08841414e-04, 4.42429581e-02, 4.42014881e-05, 9.55303999e-01],\n",
       "        [8.71218550e-01, 1.24179457e-01, 1.01186074e-05, 4.59187402e-03],\n",
       "        [6.48893215e-05, 1.58119198e-01, 1.42587552e-06, 8.41814487e-01],\n",
       "        [9.99832481e-01, 2.78344177e-06, 2.83206653e-05, 1.36414717e-04],\n",
       "        [9.72928317e-01, 7.86542010e-05, 1.61326563e-06, 2.69914154e-02],\n",
       "        [1.62212358e-04, 1.12202836e-01, 8.05550856e-05, 8.87554397e-01],\n",
       "        [1.98373459e-08, 5.49960789e-08, 9.99999812e-01, 1.13174500e-07],\n",
       "        [2.86850504e-05, 9.96937311e-01, 6.35881417e-05, 2.97041573e-03],\n",
       "        [4.44139253e-04, 3.76089209e-02, 3.28666688e-01, 6.33280252e-01],\n",
       "        [3.49906714e-01, 1.98773155e-02, 2.97501272e-06, 6.30212995e-01],\n",
       "        [4.49638849e-03, 6.31027754e-01, 5.10666825e-04, 3.63965190e-01],\n",
       "        [1.55370440e-04, 2.00730231e-02, 1.11700770e-04, 9.79659906e-01],\n",
       "        [7.58806343e-04, 2.73184302e-01, 1.04544018e-04, 7.25952348e-01],\n",
       "        [6.02386771e-05, 9.98544137e-01, 7.85651946e-06, 1.38776731e-03],\n",
       "        [1.18115517e-10, 1.37132937e-06, 9.99998616e-01, 1.28516430e-08]]))"
      ]
     },
     "execution_count": 162,
     "metadata": {},
     "output_type": "execute_result"
    }
   ],
   "source": [
    "lgbm = LGBMClassifier(\n",
    "    n_estimators=450,\n",
    "    max_depth=20,\n",
    "    min_child_samples=10,\n",
    "    class_weight='balanced',\n",
    "    n_jobs=-1)\n",
    "model_eval(lgbm, X_valid_vec, y_valid)"
   ]
  },
  {
   "cell_type": "markdown",
   "metadata": {},
   "source": [
    "## OvO ROC curve\n",
    "**[github example](https://github.com/vinyluis/Articles/blob/main/ROC%20Curve%20and%20ROC%20AUC/ROC%20Curve%20-%20Multiclass.ipynb)**"
   ]
  },
  {
   "cell_type": "code",
   "execution_count": 46,
   "metadata": {},
   "outputs": [
    {
     "name": "stdout",
     "output_type": "stream",
     "text": [
      "[('대화형', '사실형'), ('대화형', '예측형'), ('대화형', '추론형'), ('사실형', '예측형'), ('사실형', '추론형'), ('예측형', '추론형')]\n"
     ]
    }
   ],
   "source": [
    "pair_list = list(combinations(np.unique(y_valid), 2))\n",
    "print(pair_list)\n"
   ]
  },
  {
   "cell_type": "code",
   "execution_count": null,
   "metadata": {},
   "outputs": [],
   "source": []
  },
  {
   "cell_type": "code",
   "execution_count": 63,
   "metadata": {},
   "outputs": [
    {
     "name": "stderr",
     "output_type": "stream",
     "text": [
      "/Users/seungbeomha/opt/anaconda3/lib/python3.9/site-packages/sklearn/base.py:450: UserWarning: X does not have valid feature names, but MultinomialNB was fitted with feature names\n",
      "  warnings.warn(\n"
     ]
    }
   ],
   "source": [
    "lb = LabelBinarizer()\n",
    "\n",
    "pred_lb = lb.fit_transform(y_valid)\n",
    "pred_prob = naive.predict_proba(X_valid_vec)\n",
    "\n",
    "auc = roc_auc_score(pred_lb, pred_prob, multi_class='ovo')"
   ]
  },
  {
   "cell_type": "code",
   "execution_count": 64,
   "metadata": {},
   "outputs": [
    {
     "data": {
      "text/plain": [
       "0.7001334085971874"
      ]
     },
     "execution_count": 64,
     "metadata": {},
     "output_type": "execute_result"
    }
   ],
   "source": [
    "auc"
   ]
  }
 ],
 "metadata": {
  "kernelspec": {
   "display_name": "Python 3 (ipykernel)",
   "language": "python",
   "name": "python3"
  },
  "language_info": {
   "codemirror_mode": {
    "name": "ipython",
    "version": 3
   },
   "file_extension": ".py",
   "mimetype": "text/x-python",
   "name": "python",
   "nbconvert_exporter": "python",
   "pygments_lexer": "ipython3",
   "version": "3.9.15"
  },
  "vscode": {
   "interpreter": {
    "hash": "587c4db4d336fc7af4dfc0b186233bf98b219365e5fafc4f69a48b93f524702e"
   }
  }
 },
 "nbformat": 4,
 "nbformat_minor": 2
}
